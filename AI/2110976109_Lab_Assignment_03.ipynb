{
  "cells": [
    {
      "cell_type": "code",
      "execution_count": 1,
      "metadata": {
        "id": "DPO3DxcOnaen"
      },
      "outputs": [],
      "source": [
        "import tensorflow as tf\n",
        "from tensorflow.keras.layers import Input, Dense\n",
        "from tensorflow.keras.models import Model"
      ]
    },
    {
      "cell_type": "code",
      "execution_count": null,
      "metadata": {
        "id": "yLa8_9BZ40tJ"
      },
      "outputs": [],
      "source": [
        "# inputs = Input((784,))\n",
        "# hidden_1 = Dense(3, activation = 'relu')(inputs)\n",
        "# hidden_2 = Dense(3, activation= 'sigmoid')(hidden_1)\n",
        "# outputs = Dense(1, activation = 'softmax')(hidden_2)\n",
        "# model = Model(inputs, outputs)\n",
        "# model.summary(show_trainable= True)"
      ]
    },
    {
      "cell_type": "code",
      "execution_count": 2,
      "metadata": {
        "id": "7J0UdgsYTaa5",
        "colab": {
          "base_uri": "https://localhost:8080/",
          "height": 334
        },
        "outputId": "81ab047d-76cf-4e54-ac0c-5dffb147dffb"
      },
      "outputs": [
        {
          "output_type": "display_data",
          "data": {
            "text/plain": [
              "\u001b[1mModel: \"simple_model\"\u001b[0m\n"
            ],
            "text/html": [
              "<pre style=\"white-space:pre;overflow-x:auto;line-height:normal;font-family:Menlo,'DejaVu Sans Mono',consolas,'Courier New',monospace\"><span style=\"font-weight: bold\">Model: \"simple_model\"</span>\n",
              "</pre>\n"
            ]
          },
          "metadata": {}
        },
        {
          "output_type": "display_data",
          "data": {
            "text/plain": [
              "┏━━━━━━━━━━━━━━━━━━━━━━━━━━━━━┳━━━━━━━━━━━━━━━━━━━━━━━┳━━━━━━━━━━━━┳━━━━━━━┓\n",
              "┃\u001b[1m \u001b[0m\u001b[1mLayer (type)               \u001b[0m\u001b[1m \u001b[0m┃\u001b[1m \u001b[0m\u001b[1mOutput Shape         \u001b[0m\u001b[1m \u001b[0m┃\u001b[1m \u001b[0m\u001b[1m   Param #\u001b[0m\u001b[1m \u001b[0m┃\u001b[1m \u001b[0m\u001b[1mTrai…\u001b[0m\u001b[1m \u001b[0m┃\n",
              "┡━━━━━━━━━━━━━━━━━━━━━━━━━━━━━╇━━━━━━━━━━━━━━━━━━━━━━━╇━━━━━━━━━━━━╇━━━━━━━┩\n",
              "│ input_layer (\u001b[38;5;33mInputLayer\u001b[0m)    │ (\u001b[38;5;45mNone\u001b[0m, \u001b[38;5;34m1\u001b[0m)             │          \u001b[38;5;34m0\u001b[0m │   \u001b[1m-\u001b[0m   │\n",
              "├─────────────────────────────┼───────────────────────┼────────────┼───────┤\n",
              "│ hidden_layer_1 (\u001b[38;5;33mDense\u001b[0m)      │ (\u001b[38;5;45mNone\u001b[0m, \u001b[38;5;34m64\u001b[0m)            │        \u001b[38;5;34m128\u001b[0m │   \u001b[1;38;5;34mY\u001b[0m   │\n",
              "├─────────────────────────────┼───────────────────────┼────────────┼───────┤\n",
              "│ hidden_layer_2 (\u001b[38;5;33mDense\u001b[0m)      │ (\u001b[38;5;45mNone\u001b[0m, \u001b[38;5;34m128\u001b[0m)           │      \u001b[38;5;34m8,320\u001b[0m │   \u001b[1;38;5;34mY\u001b[0m   │\n",
              "├─────────────────────────────┼───────────────────────┼────────────┼───────┤\n",
              "│ hidden_layer_3 (\u001b[38;5;33mDense\u001b[0m)      │ (\u001b[38;5;45mNone\u001b[0m, \u001b[38;5;34m64\u001b[0m)            │      \u001b[38;5;34m8,256\u001b[0m │   \u001b[1;38;5;34mY\u001b[0m   │\n",
              "├─────────────────────────────┼───────────────────────┼────────────┼───────┤\n",
              "│ hidden_layer_4 (\u001b[38;5;33mDense\u001b[0m)      │ (\u001b[38;5;45mNone\u001b[0m, \u001b[38;5;34m128\u001b[0m)           │      \u001b[38;5;34m8,320\u001b[0m │   \u001b[1;38;5;34mY\u001b[0m   │\n",
              "├─────────────────────────────┼───────────────────────┼────────────┼───────┤\n",
              "│ output_layer (\u001b[38;5;33mDense\u001b[0m)        │ (\u001b[38;5;45mNone\u001b[0m, \u001b[38;5;34m1\u001b[0m)             │        \u001b[38;5;34m129\u001b[0m │   \u001b[1;38;5;34mY\u001b[0m   │\n",
              "└─────────────────────────────┴───────────────────────┴────────────┴───────┘\n"
            ],
            "text/html": [
              "<pre style=\"white-space:pre;overflow-x:auto;line-height:normal;font-family:Menlo,'DejaVu Sans Mono',consolas,'Courier New',monospace\">┏━━━━━━━━━━━━━━━━━━━━━━━━━━━━━┳━━━━━━━━━━━━━━━━━━━━━━━┳━━━━━━━━━━━━┳━━━━━━━┓\n",
              "┃<span style=\"font-weight: bold\"> Layer (type)                </span>┃<span style=\"font-weight: bold\"> Output Shape          </span>┃<span style=\"font-weight: bold\">    Param # </span>┃<span style=\"font-weight: bold\"> Trai… </span>┃\n",
              "┡━━━━━━━━━━━━━━━━━━━━━━━━━━━━━╇━━━━━━━━━━━━━━━━━━━━━━━╇━━━━━━━━━━━━╇━━━━━━━┩\n",
              "│ input_layer (<span style=\"color: #0087ff; text-decoration-color: #0087ff\">InputLayer</span>)    │ (<span style=\"color: #00d7ff; text-decoration-color: #00d7ff\">None</span>, <span style=\"color: #00af00; text-decoration-color: #00af00\">1</span>)             │          <span style=\"color: #00af00; text-decoration-color: #00af00\">0</span> │   <span style=\"font-weight: bold\">-</span>   │\n",
              "├─────────────────────────────┼───────────────────────┼────────────┼───────┤\n",
              "│ hidden_layer_1 (<span style=\"color: #0087ff; text-decoration-color: #0087ff\">Dense</span>)      │ (<span style=\"color: #00d7ff; text-decoration-color: #00d7ff\">None</span>, <span style=\"color: #00af00; text-decoration-color: #00af00\">64</span>)            │        <span style=\"color: #00af00; text-decoration-color: #00af00\">128</span> │   <span style=\"color: #00af00; text-decoration-color: #00af00; font-weight: bold\">Y</span>   │\n",
              "├─────────────────────────────┼───────────────────────┼────────────┼───────┤\n",
              "│ hidden_layer_2 (<span style=\"color: #0087ff; text-decoration-color: #0087ff\">Dense</span>)      │ (<span style=\"color: #00d7ff; text-decoration-color: #00d7ff\">None</span>, <span style=\"color: #00af00; text-decoration-color: #00af00\">128</span>)           │      <span style=\"color: #00af00; text-decoration-color: #00af00\">8,320</span> │   <span style=\"color: #00af00; text-decoration-color: #00af00; font-weight: bold\">Y</span>   │\n",
              "├─────────────────────────────┼───────────────────────┼────────────┼───────┤\n",
              "│ hidden_layer_3 (<span style=\"color: #0087ff; text-decoration-color: #0087ff\">Dense</span>)      │ (<span style=\"color: #00d7ff; text-decoration-color: #00d7ff\">None</span>, <span style=\"color: #00af00; text-decoration-color: #00af00\">64</span>)            │      <span style=\"color: #00af00; text-decoration-color: #00af00\">8,256</span> │   <span style=\"color: #00af00; text-decoration-color: #00af00; font-weight: bold\">Y</span>   │\n",
              "├─────────────────────────────┼───────────────────────┼────────────┼───────┤\n",
              "│ hidden_layer_4 (<span style=\"color: #0087ff; text-decoration-color: #0087ff\">Dense</span>)      │ (<span style=\"color: #00d7ff; text-decoration-color: #00d7ff\">None</span>, <span style=\"color: #00af00; text-decoration-color: #00af00\">128</span>)           │      <span style=\"color: #00af00; text-decoration-color: #00af00\">8,320</span> │   <span style=\"color: #00af00; text-decoration-color: #00af00; font-weight: bold\">Y</span>   │\n",
              "├─────────────────────────────┼───────────────────────┼────────────┼───────┤\n",
              "│ output_layer (<span style=\"color: #0087ff; text-decoration-color: #0087ff\">Dense</span>)        │ (<span style=\"color: #00d7ff; text-decoration-color: #00d7ff\">None</span>, <span style=\"color: #00af00; text-decoration-color: #00af00\">1</span>)             │        <span style=\"color: #00af00; text-decoration-color: #00af00\">129</span> │   <span style=\"color: #00af00; text-decoration-color: #00af00; font-weight: bold\">Y</span>   │\n",
              "└─────────────────────────────┴───────────────────────┴────────────┴───────┘\n",
              "</pre>\n"
            ]
          },
          "metadata": {}
        },
        {
          "output_type": "display_data",
          "data": {
            "text/plain": [
              "\u001b[1m Total params: \u001b[0m\u001b[38;5;34m25,153\u001b[0m (98.25 KB)\n"
            ],
            "text/html": [
              "<pre style=\"white-space:pre;overflow-x:auto;line-height:normal;font-family:Menlo,'DejaVu Sans Mono',consolas,'Courier New',monospace\"><span style=\"font-weight: bold\"> Total params: </span><span style=\"color: #00af00; text-decoration-color: #00af00\">25,153</span> (98.25 KB)\n",
              "</pre>\n"
            ]
          },
          "metadata": {}
        },
        {
          "output_type": "display_data",
          "data": {
            "text/plain": [
              "\u001b[1m Trainable params: \u001b[0m\u001b[38;5;34m25,153\u001b[0m (98.25 KB)\n"
            ],
            "text/html": [
              "<pre style=\"white-space:pre;overflow-x:auto;line-height:normal;font-family:Menlo,'DejaVu Sans Mono',consolas,'Courier New',monospace\"><span style=\"font-weight: bold\"> Trainable params: </span><span style=\"color: #00af00; text-decoration-color: #00af00\">25,153</span> (98.25 KB)\n",
              "</pre>\n"
            ]
          },
          "metadata": {}
        },
        {
          "output_type": "display_data",
          "data": {
            "text/plain": [
              "\u001b[1m Non-trainable params: \u001b[0m\u001b[38;5;34m0\u001b[0m (0.00 B)\n"
            ],
            "text/html": [
              "<pre style=\"white-space:pre;overflow-x:auto;line-height:normal;font-family:Menlo,'DejaVu Sans Mono',consolas,'Courier New',monospace\"><span style=\"font-weight: bold\"> Non-trainable params: </span><span style=\"color: #00af00; text-decoration-color: #00af00\">0</span> (0.00 B)\n",
              "</pre>\n"
            ]
          },
          "metadata": {}
        }
      ],
      "source": [
        "inputs = Input(shape=(1,), name=\"input_layer\")\n",
        "h1 = Dense(64, activation='relu', name=\"hidden_layer_1\")(inputs)\n",
        "h2 = Dense(128, activation='relu', name=\"hidden_layer_2\")(h1)\n",
        "h3 = Dense(64, activation='relu', name=\"hidden_layer_3\")(h2)\n",
        "h4 = Dense(128, activation='relu', name='hidden_layer_4')(h3)\n",
        "outputs = Dense(1, name=\"output_layer\")(h4)\n",
        "model = Model(inputs=inputs, outputs=outputs, name=\"simple_model\")\n",
        "model.summary(show_trainable=True)"
      ]
    },
    {
      "cell_type": "code",
      "execution_count": 3,
      "metadata": {
        "colab": {
          "base_uri": "https://localhost:8080/"
        },
        "id": "zfVmytq8ot4v",
        "outputId": "45445ca1-3535-4e52-bce6-2db7b457b2e1"
      },
      "outputs": [
        {
          "output_type": "stream",
          "name": "stdout",
          "text": [
            "10000\n",
            "10000\n"
          ]
        }
      ],
      "source": [
        "import numpy as np\n",
        "def square(x):\n",
        "    return 5*(x**2) +(10*x) -2\n",
        "# # Data Process\n",
        "# n = 10000\n",
        "# y = []\n",
        "# x = np.random.randint(0, n , n)\n",
        "# for i in range(n):\n",
        "#     y.append(square(x[i]))\n",
        "# y = np.array(y)\n",
        "# print(x)\n",
        "# print(y)\n",
        "\n",
        "# n = np.linspace(-1000, 10000, 100000)\n",
        "# n = np.random.permutation(n)\n",
        "# x = n.reshape(-1, 1)\n",
        "# y = square(n).reshape(-1, 1)\n",
        "\n",
        "\n",
        "x = np.linspace(-200, 200 , 10000)\n",
        "x = np.random.permutation(x)\n",
        "\n",
        "y = square(x)\n",
        "x = x.reshape(-1, 1)\n",
        "y = y.reshape(-1, 1)\n",
        "print(len(x))\n",
        "print(len(y))\n",
        "\n"
      ]
    },
    {
      "cell_type": "code",
      "execution_count": 4,
      "metadata": {
        "id": "Gq9O4vpaowuC"
      },
      "outputs": [],
      "source": [
        "# Prepare Trainning , Validation , Test Set\n",
        "total_n = len(x)\n",
        "train_n = int(total_n * 0.7)\n",
        "val_n   = int(total_n * 0.1)\n",
        "test_n  = int(total_n * 0.2)\n",
        "\n",
        "trainX  = x[:train_n]\n",
        "trainY  = y[:train_n]\n",
        "\n",
        "valX    = x[train_n : train_n + val_n]\n",
        "valY    = y[train_n : train_n + val_n]\n",
        "\n",
        "testX   = x[train_n + val_n : train_n + val_n + test_n]\n",
        "testY   = y[train_n + val_n : train_n + val_n + test_n]"
      ]
    },
    {
      "cell_type": "code",
      "execution_count": 5,
      "metadata": {
        "colab": {
          "base_uri": "https://localhost:8080/"
        },
        "id": "R7oBRD4_qENW",
        "outputId": "46a2fcea-76df-40e2-cd07-85f672f48348"
      },
      "outputs": [
        {
          "output_type": "stream",
          "name": "stdout",
          "text": [
            "Epoch 1/200\n",
            "\u001b[1m219/219\u001b[0m \u001b[32m━━━━━━━━━━━━━━━━━━━━\u001b[0m\u001b[37m\u001b[0m \u001b[1m5s\u001b[0m 11ms/step - loss: 5934860800.0000 - mae: 54370.2656 - val_loss: 515123488.0000 - val_mae: 20065.5391\n",
            "Epoch 2/200\n",
            "\u001b[1m219/219\u001b[0m \u001b[32m━━━━━━━━━━━━━━━━━━━━\u001b[0m\u001b[37m\u001b[0m \u001b[1m1s\u001b[0m 3ms/step - loss: 494635136.0000 - mae: 19624.1582 - val_loss: 515069056.0000 - val_mae: 20280.9375\n",
            "Epoch 3/200\n",
            "\u001b[1m219/219\u001b[0m \u001b[32m━━━━━━━━━━━━━━━━━━━━\u001b[0m\u001b[37m\u001b[0m \u001b[1m2s\u001b[0m 6ms/step - loss: 489137056.0000 - mae: 19531.1504 - val_loss: 494939040.0000 - val_mae: 19636.6602\n",
            "Epoch 4/200\n",
            "\u001b[1m219/219\u001b[0m \u001b[32m━━━━━━━━━━━━━━━━━━━━\u001b[0m\u001b[37m\u001b[0m \u001b[1m2s\u001b[0m 3ms/step - loss: 471844512.0000 - mae: 19073.5195 - val_loss: 488162880.0000 - val_mae: 19786.0098\n",
            "Epoch 5/200\n",
            "\u001b[1m219/219\u001b[0m \u001b[32m━━━━━━━━━━━━━━━━━━━━\u001b[0m\u001b[37m\u001b[0m \u001b[1m1s\u001b[0m 3ms/step - loss: 469256096.0000 - mae: 19025.7871 - val_loss: 475526368.0000 - val_mae: 19110.2051\n",
            "Epoch 6/200\n",
            "\u001b[1m219/219\u001b[0m \u001b[32m━━━━━━━━━━━━━━━━━━━━\u001b[0m\u001b[37m\u001b[0m \u001b[1m1s\u001b[0m 3ms/step - loss: 466119552.0000 - mae: 18887.9297 - val_loss: 463401920.0000 - val_mae: 18881.9434\n",
            "Epoch 7/200\n",
            "\u001b[1m219/219\u001b[0m \u001b[32m━━━━━━━━━━━━━━━━━━━━\u001b[0m\u001b[37m\u001b[0m \u001b[1m1s\u001b[0m 3ms/step - loss: 454723968.0000 - mae: 18516.6406 - val_loss: 454539424.0000 - val_mae: 18978.6953\n",
            "Epoch 8/200\n",
            "\u001b[1m219/219\u001b[0m \u001b[32m━━━━━━━━━━━━━━━━━━━━\u001b[0m\u001b[37m\u001b[0m \u001b[1m1s\u001b[0m 3ms/step - loss: 441400960.0000 - mae: 18397.3457 - val_loss: 434131904.0000 - val_mae: 18186.2266\n",
            "Epoch 9/200\n",
            "\u001b[1m219/219\u001b[0m \u001b[32m━━━━━━━━━━━━━━━━━━━━\u001b[0m\u001b[37m\u001b[0m \u001b[1m1s\u001b[0m 3ms/step - loss: 423303616.0000 - mae: 17851.6113 - val_loss: 415507392.0000 - val_mae: 17802.9043\n",
            "Epoch 10/200\n",
            "\u001b[1m219/219\u001b[0m \u001b[32m━━━━━━━━━━━━━━━━━━━━\u001b[0m\u001b[37m\u001b[0m \u001b[1m1s\u001b[0m 3ms/step - loss: 403464960.0000 - mae: 17355.6152 - val_loss: 392217408.0000 - val_mae: 17290.5527\n",
            "Epoch 11/200\n",
            "\u001b[1m219/219\u001b[0m \u001b[32m━━━━━━━━━━━━━━━━━━━━\u001b[0m\u001b[37m\u001b[0m \u001b[1m1s\u001b[0m 3ms/step - loss: 386450944.0000 - mae: 16847.6562 - val_loss: 391226112.0000 - val_mae: 16333.3799\n",
            "Epoch 12/200\n",
            "\u001b[1m219/219\u001b[0m \u001b[32m━━━━━━━━━━━━━━━━━━━━\u001b[0m\u001b[37m\u001b[0m \u001b[1m1s\u001b[0m 3ms/step - loss: 345900064.0000 - mae: 15634.5049 - val_loss: 277095296.0000 - val_mae: 14031.1855\n",
            "Epoch 13/200\n",
            "\u001b[1m219/219\u001b[0m \u001b[32m━━━━━━━━━━━━━━━━━━━━\u001b[0m\u001b[37m\u001b[0m \u001b[1m2s\u001b[0m 5ms/step - loss: 252484464.0000 - mae: 13056.2500 - val_loss: 141971728.0000 - val_mae: 9400.8613\n",
            "Epoch 14/200\n",
            "\u001b[1m219/219\u001b[0m \u001b[32m━━━━━━━━━━━━━━━━━━━━\u001b[0m\u001b[37m\u001b[0m \u001b[1m1s\u001b[0m 4ms/step - loss: 126048040.0000 - mae: 8290.7725 - val_loss: 61426388.0000 - val_mae: 5092.7808\n",
            "Epoch 15/200\n",
            "\u001b[1m219/219\u001b[0m \u001b[32m━━━━━━━━━━━━━━━━━━━━\u001b[0m\u001b[37m\u001b[0m \u001b[1m1s\u001b[0m 3ms/step - loss: 46019124.0000 - mae: 4416.4893 - val_loss: 18807894.0000 - val_mae: 2437.9231\n",
            "Epoch 16/200\n",
            "\u001b[1m219/219\u001b[0m \u001b[32m━━━━━━━━━━━━━━━━━━━━\u001b[0m\u001b[37m\u001b[0m \u001b[1m1s\u001b[0m 3ms/step - loss: 19278148.0000 - mae: 2626.1853 - val_loss: 8853953.0000 - val_mae: 1898.7792\n",
            "Epoch 17/200\n",
            "\u001b[1m219/219\u001b[0m \u001b[32m━━━━━━━━━━━━━━━━━━━━\u001b[0m\u001b[37m\u001b[0m \u001b[1m1s\u001b[0m 3ms/step - loss: 7831276.0000 - mae: 1616.8041 - val_loss: 4266491.5000 - val_mae: 1196.2332\n",
            "Epoch 18/200\n",
            "\u001b[1m219/219\u001b[0m \u001b[32m━━━━━━━━━━━━━━━━━━━━\u001b[0m\u001b[37m\u001b[0m \u001b[1m1s\u001b[0m 3ms/step - loss: 5045748.5000 - mae: 1263.1260 - val_loss: 8966241.0000 - val_mae: 1887.1591\n",
            "Epoch 19/200\n",
            "\u001b[1m219/219\u001b[0m \u001b[32m━━━━━━━━━━━━━━━━━━━━\u001b[0m\u001b[37m\u001b[0m \u001b[1m1s\u001b[0m 3ms/step - loss: 4267083.5000 - mae: 1163.0680 - val_loss: 2664636.2500 - val_mae: 906.3686\n",
            "Epoch 20/200\n",
            "\u001b[1m219/219\u001b[0m \u001b[32m━━━━━━━━━━━━━━━━━━━━\u001b[0m\u001b[37m\u001b[0m \u001b[1m1s\u001b[0m 3ms/step - loss: 2730413.2500 - mae: 899.8735 - val_loss: 1055705.6250 - val_mae: 598.5660\n",
            "Epoch 21/200\n",
            "\u001b[1m219/219\u001b[0m \u001b[32m━━━━━━━━━━━━━━━━━━━━\u001b[0m\u001b[37m\u001b[0m \u001b[1m1s\u001b[0m 3ms/step - loss: 1624690.2500 - mae: 712.2753 - val_loss: 800114.8125 - val_mae: 524.4766\n",
            "Epoch 22/200\n",
            "\u001b[1m219/219\u001b[0m \u001b[32m━━━━━━━━━━━━━━━━━━━━\u001b[0m\u001b[37m\u001b[0m \u001b[1m1s\u001b[0m 3ms/step - loss: 1822187.0000 - mae: 739.8194 - val_loss: 3679731.5000 - val_mae: 1321.2799\n",
            "Epoch 23/200\n",
            "\u001b[1m219/219\u001b[0m \u001b[32m━━━━━━━━━━━━━━━━━━━━\u001b[0m\u001b[37m\u001b[0m \u001b[1m1s\u001b[0m 3ms/step - loss: 1037299.7500 - mae: 581.8317 - val_loss: 4711353.5000 - val_mae: 1407.6782\n",
            "Epoch 24/200\n",
            "\u001b[1m219/219\u001b[0m \u001b[32m━━━━━━━━━━━━━━━━━━━━\u001b[0m\u001b[37m\u001b[0m \u001b[1m1s\u001b[0m 3ms/step - loss: 1402166.1250 - mae: 655.2745 - val_loss: 486892.9062 - val_mae: 437.4212\n",
            "Epoch 25/200\n",
            "\u001b[1m219/219\u001b[0m \u001b[32m━━━━━━━━━━━━━━━━━━━━\u001b[0m\u001b[37m\u001b[0m \u001b[1m1s\u001b[0m 3ms/step - loss: 613568.3125 - mae: 413.1338 - val_loss: 3534425.2500 - val_mae: 1010.7344\n",
            "Epoch 26/200\n",
            "\u001b[1m219/219\u001b[0m \u001b[32m━━━━━━━━━━━━━━━━━━━━\u001b[0m\u001b[37m\u001b[0m \u001b[1m2s\u001b[0m 5ms/step - loss: 1409116.3750 - mae: 683.3505 - val_loss: 477836.4375 - val_mae: 361.8765\n",
            "Epoch 27/200\n",
            "\u001b[1m219/219\u001b[0m \u001b[32m━━━━━━━━━━━━━━━━━━━━\u001b[0m\u001b[37m\u001b[0m \u001b[1m1s\u001b[0m 3ms/step - loss: 673162.2500 - mae: 454.7594 - val_loss: 237010.2969 - val_mae: 274.0863\n",
            "Epoch 28/200\n",
            "\u001b[1m219/219\u001b[0m \u001b[32m━━━━━━━━━━━━━━━━━━━━\u001b[0m\u001b[37m\u001b[0m \u001b[1m1s\u001b[0m 3ms/step - loss: 616721.9375 - mae: 442.4431 - val_loss: 12788538.0000 - val_mae: 1922.1979\n",
            "Epoch 29/200\n",
            "\u001b[1m219/219\u001b[0m \u001b[32m━━━━━━━━━━━━━━━━━━━━\u001b[0m\u001b[37m\u001b[0m \u001b[1m1s\u001b[0m 3ms/step - loss: 5892699.0000 - mae: 1376.1779 - val_loss: 654677.0625 - val_mae: 529.5840\n",
            "Epoch 30/200\n",
            "\u001b[1m219/219\u001b[0m \u001b[32m━━━━━━━━━━━━━━━━━━━━\u001b[0m\u001b[37m\u001b[0m \u001b[1m1s\u001b[0m 3ms/step - loss: 284862.3125 - mae: 298.3613 - val_loss: 143245.2188 - val_mae: 189.6873\n",
            "Epoch 31/200\n",
            "\u001b[1m219/219\u001b[0m \u001b[32m━━━━━━━━━━━━━━━━━━━━\u001b[0m\u001b[37m\u001b[0m \u001b[1m1s\u001b[0m 3ms/step - loss: 522783.9062 - mae: 415.4113 - val_loss: 542750.4375 - val_mae: 431.9239\n",
            "Epoch 32/200\n",
            "\u001b[1m219/219\u001b[0m \u001b[32m━━━━━━━━━━━━━━━━━━━━\u001b[0m\u001b[37m\u001b[0m \u001b[1m1s\u001b[0m 3ms/step - loss: 269467.3750 - mae: 304.7410 - val_loss: 104138.1094 - val_mae: 166.9780\n",
            "Epoch 33/200\n",
            "\u001b[1m219/219\u001b[0m \u001b[32m━━━━━━━━━━━━━━━━━━━━\u001b[0m\u001b[37m\u001b[0m \u001b[1m1s\u001b[0m 3ms/step - loss: 291723.8750 - mae: 307.7037 - val_loss: 904937.6250 - val_mae: 611.9955\n",
            "Epoch 34/200\n",
            "\u001b[1m219/219\u001b[0m \u001b[32m━━━━━━━━━━━━━━━━━━━━\u001b[0m\u001b[37m\u001b[0m \u001b[1m1s\u001b[0m 3ms/step - loss: 3558585.2500 - mae: 1086.3795 - val_loss: 464337.1562 - val_mae: 420.3461\n",
            "Epoch 35/200\n",
            "\u001b[1m219/219\u001b[0m \u001b[32m━━━━━━━━━━━━━━━━━━━━\u001b[0m\u001b[37m\u001b[0m \u001b[1m1s\u001b[0m 3ms/step - loss: 556568.8125 - mae: 417.6690 - val_loss: 172681.0469 - val_mae: 286.9198\n",
            "Epoch 36/200\n",
            "\u001b[1m219/219\u001b[0m \u001b[32m━━━━━━━━━━━━━━━━━━━━\u001b[0m\u001b[37m\u001b[0m \u001b[1m1s\u001b[0m 3ms/step - loss: 684847.8750 - mae: 459.4612 - val_loss: 309442.8750 - val_mae: 336.8009\n",
            "Epoch 37/200\n",
            "\u001b[1m219/219\u001b[0m \u001b[32m━━━━━━━━━━━━━━━━━━━━\u001b[0m\u001b[37m\u001b[0m \u001b[1m2s\u001b[0m 4ms/step - loss: 1756589.3750 - mae: 578.4876 - val_loss: 1975446.1250 - val_mae: 873.3206\n",
            "Epoch 38/200\n",
            "\u001b[1m219/219\u001b[0m \u001b[32m━━━━━━━━━━━━━━━━━━━━\u001b[0m\u001b[37m\u001b[0m \u001b[1m1s\u001b[0m 4ms/step - loss: 662194.4375 - mae: 467.3844 - val_loss: 107625.0625 - val_mae: 203.8076\n",
            "Epoch 39/200\n",
            "\u001b[1m219/219\u001b[0m \u001b[32m━━━━━━━━━━━━━━━━━━━━\u001b[0m\u001b[37m\u001b[0m \u001b[1m1s\u001b[0m 3ms/step - loss: 276838.0625 - mae: 297.5094 - val_loss: 74768.1328 - val_mae: 117.2699\n",
            "Epoch 40/200\n",
            "\u001b[1m219/219\u001b[0m \u001b[32m━━━━━━━━━━━━━━━━━━━━\u001b[0m\u001b[37m\u001b[0m \u001b[1m1s\u001b[0m 3ms/step - loss: 188567.5938 - mae: 229.0884 - val_loss: 127024.0625 - val_mae: 184.7522\n",
            "Epoch 41/200\n",
            "\u001b[1m219/219\u001b[0m \u001b[32m━━━━━━━━━━━━━━━━━━━━\u001b[0m\u001b[37m\u001b[0m \u001b[1m1s\u001b[0m 3ms/step - loss: 664119.0000 - mae: 460.7927 - val_loss: 871085.9375 - val_mae: 606.2429\n",
            "Epoch 42/200\n",
            "\u001b[1m219/219\u001b[0m \u001b[32m━━━━━━━━━━━━━━━━━━━━\u001b[0m\u001b[37m\u001b[0m \u001b[1m1s\u001b[0m 3ms/step - loss: 1137723.5000 - mae: 621.1329 - val_loss: 469899.4688 - val_mae: 487.5169\n",
            "Epoch 43/200\n",
            "\u001b[1m219/219\u001b[0m \u001b[32m━━━━━━━━━━━━━━━━━━━━\u001b[0m\u001b[37m\u001b[0m \u001b[1m1s\u001b[0m 3ms/step - loss: 336502.1875 - mae: 298.5709 - val_loss: 366887.3750 - val_mae: 409.6209\n",
            "Epoch 44/200\n",
            "\u001b[1m219/219\u001b[0m \u001b[32m━━━━━━━━━━━━━━━━━━━━\u001b[0m\u001b[37m\u001b[0m \u001b[1m1s\u001b[0m 3ms/step - loss: 242661.3906 - mae: 291.3468 - val_loss: 71178.4375 - val_mae: 161.0070\n",
            "Epoch 45/200\n",
            "\u001b[1m219/219\u001b[0m \u001b[32m━━━━━━━━━━━━━━━━━━━━\u001b[0m\u001b[37m\u001b[0m \u001b[1m1s\u001b[0m 3ms/step - loss: 120913.2891 - mae: 188.5982 - val_loss: 225471.8906 - val_mae: 305.4040\n",
            "Epoch 46/200\n",
            "\u001b[1m219/219\u001b[0m \u001b[32m━━━━━━━━━━━━━━━━━━━━\u001b[0m\u001b[37m\u001b[0m \u001b[1m1s\u001b[0m 3ms/step - loss: 222958.2969 - mae: 269.3051 - val_loss: 261041.3750 - val_mae: 380.4020\n",
            "Epoch 47/200\n",
            "\u001b[1m219/219\u001b[0m \u001b[32m━━━━━━━━━━━━━━━━━━━━\u001b[0m\u001b[37m\u001b[0m \u001b[1m1s\u001b[0m 3ms/step - loss: 1081709.7500 - mae: 555.3856 - val_loss: 744292.0625 - val_mae: 516.3252\n",
            "Epoch 48/200\n",
            "\u001b[1m219/219\u001b[0m \u001b[32m━━━━━━━━━━━━━━━━━━━━\u001b[0m\u001b[37m\u001b[0m \u001b[1m1s\u001b[0m 4ms/step - loss: 235340.1875 - mae: 266.4313 - val_loss: 60608.7578 - val_mae: 168.3887\n",
            "Epoch 49/200\n",
            "\u001b[1m219/219\u001b[0m \u001b[32m━━━━━━━━━━━━━━━━━━━━\u001b[0m\u001b[37m\u001b[0m \u001b[1m1s\u001b[0m 4ms/step - loss: 271322.0000 - mae: 308.5589 - val_loss: 3908792.7500 - val_mae: 968.0740\n",
            "Epoch 50/200\n",
            "\u001b[1m219/219\u001b[0m \u001b[32m━━━━━━━━━━━━━━━━━━━━\u001b[0m\u001b[37m\u001b[0m \u001b[1m1s\u001b[0m 5ms/step - loss: 1133241.8750 - mae: 560.4993 - val_loss: 98905.5703 - val_mae: 248.8067\n",
            "Epoch 51/200\n",
            "\u001b[1m219/219\u001b[0m \u001b[32m━━━━━━━━━━━━━━━━━━━━\u001b[0m\u001b[37m\u001b[0m \u001b[1m1s\u001b[0m 3ms/step - loss: 140329.0469 - mae: 226.1029 - val_loss: 2008364.1250 - val_mae: 1012.6176\n",
            "Epoch 52/200\n",
            "\u001b[1m219/219\u001b[0m \u001b[32m━━━━━━━━━━━━━━━━━━━━\u001b[0m\u001b[37m\u001b[0m \u001b[1m1s\u001b[0m 3ms/step - loss: 2774844.5000 - mae: 815.4053 - val_loss: 1224559.7500 - val_mae: 674.1476\n",
            "Epoch 53/200\n",
            "\u001b[1m219/219\u001b[0m \u001b[32m━━━━━━━━━━━━━━━━━━━━\u001b[0m\u001b[37m\u001b[0m \u001b[1m1s\u001b[0m 3ms/step - loss: 1581726.3750 - mae: 731.9149 - val_loss: 434493.3750 - val_mae: 375.4098\n",
            "Epoch 54/200\n",
            "\u001b[1m219/219\u001b[0m \u001b[32m━━━━━━━━━━━━━━━━━━━━\u001b[0m\u001b[37m\u001b[0m \u001b[1m1s\u001b[0m 3ms/step - loss: 541516.5625 - mae: 418.7513 - val_loss: 255980.0000 - val_mae: 282.1901\n",
            "Epoch 55/200\n",
            "\u001b[1m219/219\u001b[0m \u001b[32m━━━━━━━━━━━━━━━━━━━━\u001b[0m\u001b[37m\u001b[0m \u001b[1m1s\u001b[0m 3ms/step - loss: 472589.6250 - mae: 394.6436 - val_loss: 416225.1250 - val_mae: 453.6212\n",
            "Epoch 56/200\n",
            "\u001b[1m219/219\u001b[0m \u001b[32m━━━━━━━━━━━━━━━━━━━━\u001b[0m\u001b[37m\u001b[0m \u001b[1m1s\u001b[0m 3ms/step - loss: 318877.0000 - mae: 331.7073 - val_loss: 329884.4062 - val_mae: 356.2419\n",
            "Epoch 57/200\n",
            "\u001b[1m219/219\u001b[0m \u001b[32m━━━━━━━━━━━━━━━━━━━━\u001b[0m\u001b[37m\u001b[0m \u001b[1m1s\u001b[0m 3ms/step - loss: 524606.9375 - mae: 407.0990 - val_loss: 618117.5625 - val_mae: 481.6057\n",
            "Epoch 58/200\n",
            "\u001b[1m219/219\u001b[0m \u001b[32m━━━━━━━━━━━━━━━━━━━━\u001b[0m\u001b[37m\u001b[0m \u001b[1m1s\u001b[0m 3ms/step - loss: 1636710.2500 - mae: 706.9752 - val_loss: 83685.8516 - val_mae: 142.9350\n",
            "Epoch 59/200\n",
            "\u001b[1m219/219\u001b[0m \u001b[32m━━━━━━━━━━━━━━━━━━━━\u001b[0m\u001b[37m\u001b[0m \u001b[1m1s\u001b[0m 3ms/step - loss: 200832.3125 - mae: 250.5579 - val_loss: 93926.1953 - val_mae: 193.1587\n",
            "Epoch 60/200\n",
            "\u001b[1m219/219\u001b[0m \u001b[32m━━━━━━━━━━━━━━━━━━━━\u001b[0m\u001b[37m\u001b[0m \u001b[1m1s\u001b[0m 3ms/step - loss: 224705.2188 - mae: 241.9254 - val_loss: 1345829.2500 - val_mae: 650.0223\n",
            "Epoch 61/200\n",
            "\u001b[1m219/219\u001b[0m \u001b[32m━━━━━━━━━━━━━━━━━━━━\u001b[0m\u001b[37m\u001b[0m \u001b[1m2s\u001b[0m 5ms/step - loss: 593855.3750 - mae: 447.3268 - val_loss: 1912752.5000 - val_mae: 807.2853\n",
            "Epoch 62/200\n",
            "\u001b[1m219/219\u001b[0m \u001b[32m━━━━━━━━━━━━━━━━━━━━\u001b[0m\u001b[37m\u001b[0m \u001b[1m1s\u001b[0m 5ms/step - loss: 3387442.7500 - mae: 999.0185 - val_loss: 557181.6250 - val_mae: 457.2111\n",
            "Epoch 63/200\n",
            "\u001b[1m219/219\u001b[0m \u001b[32m━━━━━━━━━━━━━━━━━━━━\u001b[0m\u001b[37m\u001b[0m \u001b[1m1s\u001b[0m 3ms/step - loss: 406691.8125 - mae: 365.1248 - val_loss: 43240.3672 - val_mae: 113.9493\n",
            "Epoch 64/200\n",
            "\u001b[1m219/219\u001b[0m \u001b[32m━━━━━━━━━━━━━━━━━━━━\u001b[0m\u001b[37m\u001b[0m \u001b[1m1s\u001b[0m 3ms/step - loss: 117854.4922 - mae: 199.0153 - val_loss: 51231.7656 - val_mae: 139.6990\n",
            "Epoch 65/200\n",
            "\u001b[1m219/219\u001b[0m \u001b[32m━━━━━━━━━━━━━━━━━━━━\u001b[0m\u001b[37m\u001b[0m \u001b[1m1s\u001b[0m 3ms/step - loss: 134792.1250 - mae: 208.9054 - val_loss: 18011.2520 - val_mae: 77.6492\n",
            "Epoch 66/200\n",
            "\u001b[1m219/219\u001b[0m \u001b[32m━━━━━━━━━━━━━━━━━━━━\u001b[0m\u001b[37m\u001b[0m \u001b[1m1s\u001b[0m 3ms/step - loss: 407946.3750 - mae: 329.9893 - val_loss: 887689.4375 - val_mae: 583.9633\n",
            "Epoch 67/200\n",
            "\u001b[1m219/219\u001b[0m \u001b[32m━━━━━━━━━━━━━━━━━━━━\u001b[0m\u001b[37m\u001b[0m \u001b[1m1s\u001b[0m 3ms/step - loss: 484053.1562 - mae: 409.6605 - val_loss: 66016.9609 - val_mae: 154.8727\n",
            "Epoch 68/200\n",
            "\u001b[1m219/219\u001b[0m \u001b[32m━━━━━━━━━━━━━━━━━━━━\u001b[0m\u001b[37m\u001b[0m \u001b[1m1s\u001b[0m 3ms/step - loss: 549975.8750 - mae: 393.1977 - val_loss: 138105.8594 - val_mae: 250.8670\n",
            "Epoch 69/200\n",
            "\u001b[1m219/219\u001b[0m \u001b[32m━━━━━━━━━━━━━━━━━━━━\u001b[0m\u001b[37m\u001b[0m \u001b[1m1s\u001b[0m 3ms/step - loss: 188735.7344 - mae: 262.8546 - val_loss: 201388.8750 - val_mae: 266.6962\n",
            "Epoch 70/200\n",
            "\u001b[1m219/219\u001b[0m \u001b[32m━━━━━━━━━━━━━━━━━━━━\u001b[0m\u001b[37m\u001b[0m \u001b[1m1s\u001b[0m 3ms/step - loss: 240707.1562 - mae: 275.1397 - val_loss: 2504812.2500 - val_mae: 1118.6415\n",
            "Epoch 71/200\n",
            "\u001b[1m219/219\u001b[0m \u001b[32m━━━━━━━━━━━━━━━━━━━━\u001b[0m\u001b[37m\u001b[0m \u001b[1m1s\u001b[0m 3ms/step - loss: 2522667.5000 - mae: 933.7853 - val_loss: 622149.0000 - val_mae: 492.7470\n",
            "Epoch 72/200\n",
            "\u001b[1m219/219\u001b[0m \u001b[32m━━━━━━━━━━━━━━━━━━━━\u001b[0m\u001b[37m\u001b[0m \u001b[1m1s\u001b[0m 3ms/step - loss: 736953.2500 - mae: 444.6521 - val_loss: 53900.0156 - val_mae: 138.8724\n",
            "Epoch 73/200\n",
            "\u001b[1m219/219\u001b[0m \u001b[32m━━━━━━━━━━━━━━━━━━━━\u001b[0m\u001b[37m\u001b[0m \u001b[1m2s\u001b[0m 5ms/step - loss: 670154.3125 - mae: 459.1157 - val_loss: 385262.1562 - val_mae: 359.6761\n",
            "Epoch 74/200\n",
            "\u001b[1m219/219\u001b[0m \u001b[32m━━━━━━━━━━━━━━━━━━━━\u001b[0m\u001b[37m\u001b[0m \u001b[1m1s\u001b[0m 5ms/step - loss: 893107.5000 - mae: 539.2100 - val_loss: 580110.2500 - val_mae: 404.8265\n",
            "Epoch 75/200\n",
            "\u001b[1m219/219\u001b[0m \u001b[32m━━━━━━━━━━━━━━━━━━━━\u001b[0m\u001b[37m\u001b[0m \u001b[1m1s\u001b[0m 4ms/step - loss: 266691.2500 - mae: 280.5577 - val_loss: 173046.7500 - val_mae: 292.7140\n",
            "Epoch 76/200\n",
            "\u001b[1m219/219\u001b[0m \u001b[32m━━━━━━━━━━━━━━━━━━━━\u001b[0m\u001b[37m\u001b[0m \u001b[1m1s\u001b[0m 3ms/step - loss: 365770.3750 - mae: 333.9602 - val_loss: 486520.0000 - val_mae: 496.0475\n",
            "Epoch 77/200\n",
            "\u001b[1m219/219\u001b[0m \u001b[32m━━━━━━━━━━━━━━━━━━━━\u001b[0m\u001b[37m\u001b[0m \u001b[1m1s\u001b[0m 3ms/step - loss: 683082.8750 - mae: 401.3293 - val_loss: 15323.2910 - val_mae: 63.2593\n",
            "Epoch 78/200\n",
            "\u001b[1m219/219\u001b[0m \u001b[32m━━━━━━━━━━━━━━━━━━━━\u001b[0m\u001b[37m\u001b[0m \u001b[1m1s\u001b[0m 3ms/step - loss: 236265.3906 - mae: 226.1389 - val_loss: 180082.7812 - val_mae: 260.6654\n",
            "Epoch 79/200\n",
            "\u001b[1m219/219\u001b[0m \u001b[32m━━━━━━━━━━━━━━━━━━━━\u001b[0m\u001b[37m\u001b[0m \u001b[1m1s\u001b[0m 3ms/step - loss: 655512.7500 - mae: 386.1098 - val_loss: 993207.5000 - val_mae: 702.5980\n",
            "Epoch 80/200\n",
            "\u001b[1m219/219\u001b[0m \u001b[32m━━━━━━━━━━━━━━━━━━━━\u001b[0m\u001b[37m\u001b[0m \u001b[1m1s\u001b[0m 3ms/step - loss: 1313345.8750 - mae: 664.4739 - val_loss: 95932.9141 - val_mae: 229.7170\n",
            "Epoch 81/200\n",
            "\u001b[1m219/219\u001b[0m \u001b[32m━━━━━━━━━━━━━━━━━━━━\u001b[0m\u001b[37m\u001b[0m \u001b[1m1s\u001b[0m 3ms/step - loss: 63529.7031 - mae: 147.4594 - val_loss: 268597.7500 - val_mae: 282.7516\n",
            "Epoch 82/200\n",
            "\u001b[1m219/219\u001b[0m \u001b[32m━━━━━━━━━━━━━━━━━━━━\u001b[0m\u001b[37m\u001b[0m \u001b[1m1s\u001b[0m 3ms/step - loss: 2764092.2500 - mae: 797.1554 - val_loss: 197726.3594 - val_mae: 213.3230\n",
            "Epoch 83/200\n",
            "\u001b[1m219/219\u001b[0m \u001b[32m━━━━━━━━━━━━━━━━━━━━\u001b[0m\u001b[37m\u001b[0m \u001b[1m1s\u001b[0m 3ms/step - loss: 364469.4688 - mae: 340.7090 - val_loss: 248009.8906 - val_mae: 288.3038\n",
            "Epoch 84/200\n",
            "\u001b[1m219/219\u001b[0m \u001b[32m━━━━━━━━━━━━━━━━━━━━\u001b[0m\u001b[37m\u001b[0m \u001b[1m2s\u001b[0m 5ms/step - loss: 159737.6562 - mae: 218.9632 - val_loss: 52670.8242 - val_mae: 177.0354\n",
            "Epoch 85/200\n",
            "\u001b[1m219/219\u001b[0m \u001b[32m━━━━━━━━━━━━━━━━━━━━\u001b[0m\u001b[37m\u001b[0m \u001b[1m1s\u001b[0m 5ms/step - loss: 134375.6406 - mae: 194.6179 - val_loss: 44590.8125 - val_mae: 111.6064\n",
            "Epoch 86/200\n",
            "\u001b[1m219/219\u001b[0m \u001b[32m━━━━━━━━━━━━━━━━━━━━\u001b[0m\u001b[37m\u001b[0m \u001b[1m1s\u001b[0m 3ms/step - loss: 60341.0586 - mae: 139.2022 - val_loss: 16743.6465 - val_mae: 70.3057\n",
            "Epoch 87/200\n",
            "\u001b[1m219/219\u001b[0m \u001b[32m━━━━━━━━━━━━━━━━━━━━\u001b[0m\u001b[37m\u001b[0m \u001b[1m1s\u001b[0m 3ms/step - loss: 39551.9297 - mae: 110.2409 - val_loss: 245218.9844 - val_mae: 279.8282\n",
            "Epoch 88/200\n",
            "\u001b[1m219/219\u001b[0m \u001b[32m━━━━━━━━━━━━━━━━━━━━\u001b[0m\u001b[37m\u001b[0m \u001b[1m1s\u001b[0m 3ms/step - loss: 378973.0312 - mae: 332.0638 - val_loss: 692939.1250 - val_mae: 544.9911\n",
            "Epoch 89/200\n",
            "\u001b[1m219/219\u001b[0m \u001b[32m━━━━━━━━━━━━━━━━━━━━\u001b[0m\u001b[37m\u001b[0m \u001b[1m1s\u001b[0m 3ms/step - loss: 1211000.8750 - mae: 577.8607 - val_loss: 380365.6250 - val_mae: 347.9969\n",
            "Epoch 90/200\n",
            "\u001b[1m219/219\u001b[0m \u001b[32m━━━━━━━━━━━━━━━━━━━━\u001b[0m\u001b[37m\u001b[0m \u001b[1m1s\u001b[0m 3ms/step - loss: 705814.6875 - mae: 438.8322 - val_loss: 29409.7246 - val_mae: 115.9763\n",
            "Epoch 91/200\n",
            "\u001b[1m219/219\u001b[0m \u001b[32m━━━━━━━━━━━━━━━━━━━━\u001b[0m\u001b[37m\u001b[0m \u001b[1m1s\u001b[0m 3ms/step - loss: 172860.7031 - mae: 226.3548 - val_loss: 17587.4941 - val_mae: 94.8484\n",
            "Epoch 92/200\n",
            "\u001b[1m219/219\u001b[0m \u001b[32m━━━━━━━━━━━━━━━━━━━━\u001b[0m\u001b[37m\u001b[0m \u001b[1m1s\u001b[0m 3ms/step - loss: 143583.2656 - mae: 201.5934 - val_loss: 165406.9062 - val_mae: 257.0982\n",
            "Epoch 93/200\n",
            "\u001b[1m219/219\u001b[0m \u001b[32m━━━━━━━━━━━━━━━━━━━━\u001b[0m\u001b[37m\u001b[0m \u001b[1m1s\u001b[0m 3ms/step - loss: 477402.0312 - mae: 382.5640 - val_loss: 1423759.1250 - val_mae: 751.5535\n",
            "Epoch 94/200\n",
            "\u001b[1m219/219\u001b[0m \u001b[32m━━━━━━━━━━━━━━━━━━━━\u001b[0m\u001b[37m\u001b[0m \u001b[1m1s\u001b[0m 3ms/step - loss: 456339.4688 - mae: 370.2275 - val_loss: 38710.6289 - val_mae: 110.1319\n",
            "Epoch 95/200\n",
            "\u001b[1m219/219\u001b[0m \u001b[32m━━━━━━━━━━━━━━━━━━━━\u001b[0m\u001b[37m\u001b[0m \u001b[1m1s\u001b[0m 3ms/step - loss: 87445.2656 - mae: 154.9096 - val_loss: 700296.8750 - val_mae: 571.9168\n",
            "Epoch 96/200\n",
            "\u001b[1m219/219\u001b[0m \u001b[32m━━━━━━━━━━━━━━━━━━━━\u001b[0m\u001b[37m\u001b[0m \u001b[1m1s\u001b[0m 3ms/step - loss: 837393.3125 - mae: 504.5138 - val_loss: 82153.6328 - val_mae: 188.0668\n",
            "Epoch 97/200\n",
            "\u001b[1m219/219\u001b[0m \u001b[32m━━━━━━━━━━━━━━━━━━━━\u001b[0m\u001b[37m\u001b[0m \u001b[1m1s\u001b[0m 4ms/step - loss: 170205.5938 - mae: 219.6221 - val_loss: 274147.3750 - val_mae: 357.0078\n",
            "Epoch 98/200\n",
            "\u001b[1m219/219\u001b[0m \u001b[32m━━━━━━━━━━━━━━━━━━━━\u001b[0m\u001b[37m\u001b[0m \u001b[1m1s\u001b[0m 6ms/step - loss: 860436.6250 - mae: 454.8577 - val_loss: 118542.6172 - val_mae: 248.7795\n",
            "Epoch 99/200\n",
            "\u001b[1m219/219\u001b[0m \u001b[32m━━━━━━━━━━━━━━━━━━━━\u001b[0m\u001b[37m\u001b[0m \u001b[1m1s\u001b[0m 6ms/step - loss: 175776.8281 - mae: 239.4148 - val_loss: 56868.2344 - val_mae: 159.7379\n",
            "Epoch 100/200\n",
            "\u001b[1m219/219\u001b[0m \u001b[32m━━━━━━━━━━━━━━━━━━━━\u001b[0m\u001b[37m\u001b[0m \u001b[1m2s\u001b[0m 3ms/step - loss: 675553.3125 - mae: 447.9767 - val_loss: 1012605.9375 - val_mae: 651.3361\n",
            "Epoch 101/200\n",
            "\u001b[1m219/219\u001b[0m \u001b[32m━━━━━━━━━━━━━━━━━━━━\u001b[0m\u001b[37m\u001b[0m \u001b[1m1s\u001b[0m 3ms/step - loss: 996680.0000 - mae: 573.4154 - val_loss: 225152.4688 - val_mae: 349.0051\n",
            "Epoch 102/200\n",
            "\u001b[1m219/219\u001b[0m \u001b[32m━━━━━━━━━━━━━━━━━━━━\u001b[0m\u001b[37m\u001b[0m \u001b[1m1s\u001b[0m 3ms/step - loss: 452736.7500 - mae: 344.3449 - val_loss: 216485.0781 - val_mae: 336.3031\n",
            "Epoch 103/200\n",
            "\u001b[1m219/219\u001b[0m \u001b[32m━━━━━━━━━━━━━━━━━━━━\u001b[0m\u001b[37m\u001b[0m \u001b[1m1s\u001b[0m 3ms/step - loss: 777458.7500 - mae: 433.3241 - val_loss: 1269455.2500 - val_mae: 810.1880\n",
            "Epoch 104/200\n",
            "\u001b[1m219/219\u001b[0m \u001b[32m━━━━━━━━━━━━━━━━━━━━\u001b[0m\u001b[37m\u001b[0m \u001b[1m1s\u001b[0m 3ms/step - loss: 279446.9375 - mae: 291.6331 - val_loss: 26611.7383 - val_mae: 100.1255\n",
            "Epoch 105/200\n",
            "\u001b[1m219/219\u001b[0m \u001b[32m━━━━━━━━━━━━━━━━━━━━\u001b[0m\u001b[37m\u001b[0m \u001b[1m1s\u001b[0m 3ms/step - loss: 143757.4219 - mae: 204.4877 - val_loss: 29380.8730 - val_mae: 111.6704\n",
            "Epoch 106/200\n",
            "\u001b[1m219/219\u001b[0m \u001b[32m━━━━━━━━━━━━━━━━━━━━\u001b[0m\u001b[37m\u001b[0m \u001b[1m1s\u001b[0m 3ms/step - loss: 77713.4062 - mae: 154.8195 - val_loss: 780824.3750 - val_mae: 496.7706\n",
            "Epoch 107/200\n",
            "\u001b[1m219/219\u001b[0m \u001b[32m━━━━━━━━━━━━━━━━━━━━\u001b[0m\u001b[37m\u001b[0m \u001b[1m1s\u001b[0m 3ms/step - loss: 528685.8125 - mae: 378.4518 - val_loss: 220733.4531 - val_mae: 285.0979\n",
            "Epoch 108/200\n",
            "\u001b[1m219/219\u001b[0m \u001b[32m━━━━━━━━━━━━━━━━━━━━\u001b[0m\u001b[37m\u001b[0m \u001b[1m1s\u001b[0m 4ms/step - loss: 649812.0000 - mae: 439.5692 - val_loss: 13434591.0000 - val_mae: 2308.7158\n",
            "Epoch 109/200\n",
            "\u001b[1m219/219\u001b[0m \u001b[32m━━━━━━━━━━━━━━━━━━━━\u001b[0m\u001b[37m\u001b[0m \u001b[1m1s\u001b[0m 5ms/step - loss: 5189567.5000 - mae: 1111.9465 - val_loss: 220514.3750 - val_mae: 294.9778\n",
            "Epoch 110/200\n",
            "\u001b[1m219/219\u001b[0m \u001b[32m━━━━━━━━━━━━━━━━━━━━\u001b[0m\u001b[37m\u001b[0m \u001b[1m1s\u001b[0m 3ms/step - loss: 85416.2344 - mae: 169.0430 - val_loss: 31767.1855 - val_mae: 102.4226\n",
            "Epoch 111/200\n",
            "\u001b[1m219/219\u001b[0m \u001b[32m━━━━━━━━━━━━━━━━━━━━\u001b[0m\u001b[37m\u001b[0m \u001b[1m1s\u001b[0m 3ms/step - loss: 43855.9805 - mae: 109.0985 - val_loss: 690509.5625 - val_mae: 532.5641\n",
            "Epoch 112/200\n",
            "\u001b[1m219/219\u001b[0m \u001b[32m━━━━━━━━━━━━━━━━━━━━\u001b[0m\u001b[37m\u001b[0m \u001b[1m1s\u001b[0m 3ms/step - loss: 337781.3438 - mae: 328.8674 - val_loss: 11764.0957 - val_mae: 67.8384\n",
            "Epoch 113/200\n",
            "\u001b[1m219/219\u001b[0m \u001b[32m━━━━━━━━━━━━━━━━━━━━\u001b[0m\u001b[37m\u001b[0m \u001b[1m1s\u001b[0m 3ms/step - loss: 127784.1016 - mae: 171.7979 - val_loss: 140644.1406 - val_mae: 218.8141\n",
            "Epoch 114/200\n",
            "\u001b[1m219/219\u001b[0m \u001b[32m━━━━━━━━━━━━━━━━━━━━\u001b[0m\u001b[37m\u001b[0m \u001b[1m1s\u001b[0m 3ms/step - loss: 1844997.2500 - mae: 651.5890 - val_loss: 147880.8906 - val_mae: 243.9527\n",
            "Epoch 115/200\n",
            "\u001b[1m219/219\u001b[0m \u001b[32m━━━━━━━━━━━━━━━━━━━━\u001b[0m\u001b[37m\u001b[0m \u001b[1m1s\u001b[0m 3ms/step - loss: 75604.8438 - mae: 160.1499 - val_loss: 9256.3066 - val_mae: 61.2265\n",
            "Epoch 116/200\n",
            "\u001b[1m219/219\u001b[0m \u001b[32m━━━━━━━━━━━━━━━━━━━━\u001b[0m\u001b[37m\u001b[0m \u001b[1m1s\u001b[0m 3ms/step - loss: 24550.3750 - mae: 93.9901 - val_loss: 72049.6250 - val_mae: 144.5554\n",
            "Epoch 117/200\n",
            "\u001b[1m219/219\u001b[0m \u001b[32m━━━━━━━━━━━━━━━━━━━━\u001b[0m\u001b[37m\u001b[0m \u001b[1m1s\u001b[0m 3ms/step - loss: 108355.5078 - mae: 188.3484 - val_loss: 5218.2495 - val_mae: 42.4545\n",
            "Epoch 118/200\n",
            "\u001b[1m219/219\u001b[0m \u001b[32m━━━━━━━━━━━━━━━━━━━━\u001b[0m\u001b[37m\u001b[0m \u001b[1m1s\u001b[0m 3ms/step - loss: 55673.9375 - mae: 120.7208 - val_loss: 9331.7461 - val_mae: 62.4193\n",
            "Epoch 119/200\n",
            "\u001b[1m219/219\u001b[0m \u001b[32m━━━━━━━━━━━━━━━━━━━━\u001b[0m\u001b[37m\u001b[0m \u001b[1m1s\u001b[0m 3ms/step - loss: 394380.0000 - mae: 273.3575 - val_loss: 1414329.2500 - val_mae: 711.8008\n",
            "Epoch 120/200\n",
            "\u001b[1m219/219\u001b[0m \u001b[32m━━━━━━━━━━━━━━━━━━━━\u001b[0m\u001b[37m\u001b[0m \u001b[1m1s\u001b[0m 3ms/step - loss: 470419.6562 - mae: 375.0861 - val_loss: 638038.2500 - val_mae: 463.7654\n",
            "Epoch 121/200\n",
            "\u001b[1m219/219\u001b[0m \u001b[32m━━━━━━━━━━━━━━━━━━━━\u001b[0m\u001b[37m\u001b[0m \u001b[1m1s\u001b[0m 4ms/step - loss: 1152532.5000 - mae: 530.1691 - val_loss: 15500.2998 - val_mae: 82.9005\n",
            "Epoch 122/200\n",
            "\u001b[1m219/219\u001b[0m \u001b[32m━━━━━━━━━━━━━━━━━━━━\u001b[0m\u001b[37m\u001b[0m \u001b[1m1s\u001b[0m 5ms/step - loss: 60475.1289 - mae: 103.2634 - val_loss: 754648.8125 - val_mae: 582.7198\n",
            "Epoch 123/200\n",
            "\u001b[1m219/219\u001b[0m \u001b[32m━━━━━━━━━━━━━━━━━━━━\u001b[0m\u001b[37m\u001b[0m \u001b[1m1s\u001b[0m 4ms/step - loss: 126409.7578 - mae: 204.2452 - val_loss: 560353.3750 - val_mae: 502.4062\n",
            "Epoch 124/200\n",
            "\u001b[1m219/219\u001b[0m \u001b[32m━━━━━━━━━━━━━━━━━━━━\u001b[0m\u001b[37m\u001b[0m \u001b[1m1s\u001b[0m 3ms/step - loss: 239045.9375 - mae: 269.2687 - val_loss: 100016.4297 - val_mae: 237.5308\n",
            "Epoch 125/200\n",
            "\u001b[1m219/219\u001b[0m \u001b[32m━━━━━━━━━━━━━━━━━━━━\u001b[0m\u001b[37m\u001b[0m \u001b[1m1s\u001b[0m 3ms/step - loss: 129479.5234 - mae: 207.2616 - val_loss: 5183735.0000 - val_mae: 1519.7705\n",
            "Epoch 126/200\n",
            "\u001b[1m219/219\u001b[0m \u001b[32m━━━━━━━━━━━━━━━━━━━━\u001b[0m\u001b[37m\u001b[0m \u001b[1m1s\u001b[0m 3ms/step - loss: 1781980.5000 - mae: 748.3467 - val_loss: 89914.7656 - val_mae: 154.5179\n",
            "Epoch 127/200\n",
            "\u001b[1m219/219\u001b[0m \u001b[32m━━━━━━━━━━━━━━━━━━━━\u001b[0m\u001b[37m\u001b[0m \u001b[1m1s\u001b[0m 3ms/step - loss: 141227.1094 - mae: 213.3087 - val_loss: 3956.4407 - val_mae: 41.0991\n",
            "Epoch 128/200\n",
            "\u001b[1m219/219\u001b[0m \u001b[32m━━━━━━━━━━━━━━━━━━━━\u001b[0m\u001b[37m\u001b[0m \u001b[1m1s\u001b[0m 3ms/step - loss: 16559.8867 - mae: 75.7856 - val_loss: 17100.9492 - val_mae: 100.1114\n",
            "Epoch 129/200\n",
            "\u001b[1m219/219\u001b[0m \u001b[32m━━━━━━━━━━━━━━━━━━━━\u001b[0m\u001b[37m\u001b[0m \u001b[1m1s\u001b[0m 3ms/step - loss: 307948.1875 - mae: 278.0073 - val_loss: 24077.3906 - val_mae: 91.6890\n",
            "Epoch 130/200\n",
            "\u001b[1m219/219\u001b[0m \u001b[32m━━━━━━━━━━━━━━━━━━━━\u001b[0m\u001b[37m\u001b[0m \u001b[1m1s\u001b[0m 3ms/step - loss: 437054.0938 - mae: 169.9051 - val_loss: 1597033.3750 - val_mae: 945.7373\n",
            "Epoch 131/200\n",
            "\u001b[1m219/219\u001b[0m \u001b[32m━━━━━━━━━━━━━━━━━━━━\u001b[0m\u001b[37m\u001b[0m \u001b[1m1s\u001b[0m 3ms/step - loss: 717662.1875 - mae: 494.5670 - val_loss: 360781.5625 - val_mae: 352.6598\n",
            "Epoch 132/200\n",
            "\u001b[1m219/219\u001b[0m \u001b[32m━━━━━━━━━━━━━━━━━━━━\u001b[0m\u001b[37m\u001b[0m \u001b[1m1s\u001b[0m 3ms/step - loss: 282517.5312 - mae: 289.3318 - val_loss: 24680.0566 - val_mae: 99.3925\n",
            "Epoch 133/200\n",
            "\u001b[1m219/219\u001b[0m \u001b[32m━━━━━━━━━━━━━━━━━━━━\u001b[0m\u001b[37m\u001b[0m \u001b[1m1s\u001b[0m 3ms/step - loss: 332061.8750 - mae: 287.2319 - val_loss: 138765.7344 - val_mae: 251.3658\n",
            "Epoch 134/200\n",
            "\u001b[1m219/219\u001b[0m \u001b[32m━━━━━━━━━━━━━━━━━━━━\u001b[0m\u001b[37m\u001b[0m \u001b[1m1s\u001b[0m 5ms/step - loss: 690254.5625 - mae: 472.4195 - val_loss: 78350.4766 - val_mae: 155.0512\n",
            "Epoch 135/200\n",
            "\u001b[1m219/219\u001b[0m \u001b[32m━━━━━━━━━━━━━━━━━━━━\u001b[0m\u001b[37m\u001b[0m \u001b[1m1s\u001b[0m 5ms/step - loss: 53337.0547 - mae: 115.9186 - val_loss: 33125.6328 - val_mae: 125.5048\n",
            "Epoch 136/200\n",
            "\u001b[1m219/219\u001b[0m \u001b[32m━━━━━━━━━━━━━━━━━━━━\u001b[0m\u001b[37m\u001b[0m \u001b[1m1s\u001b[0m 3ms/step - loss: 457610.6250 - mae: 335.0179 - val_loss: 28838.9121 - val_mae: 120.0307\n",
            "Epoch 137/200\n",
            "\u001b[1m219/219\u001b[0m \u001b[32m━━━━━━━━━━━━━━━━━━━━\u001b[0m\u001b[37m\u001b[0m \u001b[1m1s\u001b[0m 3ms/step - loss: 1065646.1250 - mae: 497.8911 - val_loss: 1097107.1250 - val_mae: 663.4957\n",
            "Epoch 138/200\n",
            "\u001b[1m219/219\u001b[0m \u001b[32m━━━━━━━━━━━━━━━━━━━━\u001b[0m\u001b[37m\u001b[0m \u001b[1m1s\u001b[0m 3ms/step - loss: 302585.4688 - mae: 291.8127 - val_loss: 220658.2969 - val_mae: 315.7671\n",
            "Epoch 139/200\n",
            "\u001b[1m219/219\u001b[0m \u001b[32m━━━━━━━━━━━━━━━━━━━━\u001b[0m\u001b[37m\u001b[0m \u001b[1m1s\u001b[0m 3ms/step - loss: 75475.2188 - mae: 151.3716 - val_loss: 25091.7188 - val_mae: 98.9007\n",
            "Epoch 140/200\n",
            "\u001b[1m219/219\u001b[0m \u001b[32m━━━━━━━━━━━━━━━━━━━━\u001b[0m\u001b[37m\u001b[0m \u001b[1m1s\u001b[0m 4ms/step - loss: 48149.7969 - mae: 109.5219 - val_loss: 24527.5000 - val_mae: 99.8229\n",
            "Epoch 141/200\n",
            "\u001b[1m219/219\u001b[0m \u001b[32m━━━━━━━━━━━━━━━━━━━━\u001b[0m\u001b[37m\u001b[0m \u001b[1m1s\u001b[0m 3ms/step - loss: 29598.4512 - mae: 103.6982 - val_loss: 3436.2686 - val_mae: 39.3572\n",
            "Epoch 142/200\n",
            "\u001b[1m219/219\u001b[0m \u001b[32m━━━━━━━━━━━━━━━━━━━━\u001b[0m\u001b[37m\u001b[0m \u001b[1m1s\u001b[0m 3ms/step - loss: 18087.8516 - mae: 71.5490 - val_loss: 115344.3203 - val_mae: 179.2477\n",
            "Epoch 143/200\n",
            "\u001b[1m219/219\u001b[0m \u001b[32m━━━━━━━━━━━━━━━━━━━━\u001b[0m\u001b[37m\u001b[0m \u001b[1m1s\u001b[0m 3ms/step - loss: 23972.3340 - mae: 88.8782 - val_loss: 595195.7500 - val_mae: 463.6980\n",
            "Epoch 144/200\n",
            "\u001b[1m219/219\u001b[0m \u001b[32m━━━━━━━━━━━━━━━━━━━━\u001b[0m\u001b[37m\u001b[0m \u001b[1m1s\u001b[0m 3ms/step - loss: 220428.3594 - mae: 256.6974 - val_loss: 14875.8467 - val_mae: 87.0283\n",
            "Epoch 145/200\n",
            "\u001b[1m219/219\u001b[0m \u001b[32m━━━━━━━━━━━━━━━━━━━━\u001b[0m\u001b[37m\u001b[0m \u001b[1m1s\u001b[0m 3ms/step - loss: 1509553.8750 - mae: 341.7017 - val_loss: 75448.6172 - val_mae: 199.8012\n",
            "Epoch 146/200\n",
            "\u001b[1m219/219\u001b[0m \u001b[32m━━━━━━━━━━━━━━━━━━━━\u001b[0m\u001b[37m\u001b[0m \u001b[1m1s\u001b[0m 3ms/step - loss: 395154.0625 - mae: 341.0030 - val_loss: 65117.5977 - val_mae: 160.6716\n",
            "Epoch 147/200\n",
            "\u001b[1m219/219\u001b[0m \u001b[32m━━━━━━━━━━━━━━━━━━━━\u001b[0m\u001b[37m\u001b[0m \u001b[1m2s\u001b[0m 5ms/step - loss: 47517.6484 - mae: 126.8535 - val_loss: 20240.5234 - val_mae: 93.7673\n",
            "Epoch 148/200\n",
            "\u001b[1m219/219\u001b[0m \u001b[32m━━━━━━━━━━━━━━━━━━━━\u001b[0m\u001b[37m\u001b[0m \u001b[1m1s\u001b[0m 5ms/step - loss: 382679.6250 - mae: 324.6343 - val_loss: 43123.5703 - val_mae: 145.4498\n",
            "Epoch 149/200\n",
            "\u001b[1m219/219\u001b[0m \u001b[32m━━━━━━━━━━━━━━━━━━━━\u001b[0m\u001b[37m\u001b[0m \u001b[1m1s\u001b[0m 4ms/step - loss: 124597.9844 - mae: 206.3172 - val_loss: 20501.4004 - val_mae: 98.5960\n",
            "Epoch 150/200\n",
            "\u001b[1m219/219\u001b[0m \u001b[32m━━━━━━━━━━━━━━━━━━━━\u001b[0m\u001b[37m\u001b[0m \u001b[1m1s\u001b[0m 3ms/step - loss: 33080.4805 - mae: 102.7050 - val_loss: 82030.5156 - val_mae: 179.5599\n",
            "Epoch 151/200\n",
            "\u001b[1m219/219\u001b[0m \u001b[32m━━━━━━━━━━━━━━━━━━━━\u001b[0m\u001b[37m\u001b[0m \u001b[1m1s\u001b[0m 3ms/step - loss: 44548.6367 - mae: 103.3355 - val_loss: 2857399.7500 - val_mae: 1073.9155\n",
            "Epoch 152/200\n",
            "\u001b[1m219/219\u001b[0m \u001b[32m━━━━━━━━━━━━━━━━━━━━\u001b[0m\u001b[37m\u001b[0m \u001b[1m1s\u001b[0m 3ms/step - loss: 2206472.7500 - mae: 802.7733 - val_loss: 25921.6992 - val_mae: 100.7416\n",
            "Epoch 153/200\n",
            "\u001b[1m219/219\u001b[0m \u001b[32m━━━━━━━━━━━━━━━━━━━━\u001b[0m\u001b[37m\u001b[0m \u001b[1m1s\u001b[0m 3ms/step - loss: 111634.0000 - mae: 180.4518 - val_loss: 9742.5898 - val_mae: 62.7105\n",
            "Epoch 154/200\n",
            "\u001b[1m219/219\u001b[0m \u001b[32m━━━━━━━━━━━━━━━━━━━━\u001b[0m\u001b[37m\u001b[0m \u001b[1m1s\u001b[0m 4ms/step - loss: 52444.5195 - mae: 122.3528 - val_loss: 915703.0000 - val_mae: 555.9461\n",
            "Epoch 155/200\n",
            "\u001b[1m219/219\u001b[0m \u001b[32m━━━━━━━━━━━━━━━━━━━━\u001b[0m\u001b[37m\u001b[0m \u001b[1m1s\u001b[0m 3ms/step - loss: 1103496.5000 - mae: 486.1354 - val_loss: 145397.0156 - val_mae: 236.0211\n",
            "Epoch 156/200\n",
            "\u001b[1m219/219\u001b[0m \u001b[32m━━━━━━━━━━━━━━━━━━━━\u001b[0m\u001b[37m\u001b[0m \u001b[1m1s\u001b[0m 3ms/step - loss: 348233.4688 - mae: 327.0876 - val_loss: 45837.0312 - val_mae: 134.7563\n",
            "Epoch 157/200\n",
            "\u001b[1m219/219\u001b[0m \u001b[32m━━━━━━━━━━━━━━━━━━━━\u001b[0m\u001b[37m\u001b[0m \u001b[1m1s\u001b[0m 3ms/step - loss: 23930.0430 - mae: 83.5922 - val_loss: 201001.0312 - val_mae: 305.8415\n",
            "Epoch 158/200\n",
            "\u001b[1m219/219\u001b[0m \u001b[32m━━━━━━━━━━━━━━━━━━━━\u001b[0m\u001b[37m\u001b[0m \u001b[1m1s\u001b[0m 3ms/step - loss: 84834.0312 - mae: 172.7835 - val_loss: 41440.6797 - val_mae: 138.8145\n",
            "Epoch 159/200\n",
            "\u001b[1m219/219\u001b[0m \u001b[32m━━━━━━━━━━━━━━━━━━━━\u001b[0m\u001b[37m\u001b[0m \u001b[1m1s\u001b[0m 3ms/step - loss: 46895.3867 - mae: 117.8775 - val_loss: 6099.2783 - val_mae: 59.4567\n",
            "Epoch 160/200\n",
            "\u001b[1m219/219\u001b[0m \u001b[32m━━━━━━━━━━━━━━━━━━━━\u001b[0m\u001b[37m\u001b[0m \u001b[1m1s\u001b[0m 3ms/step - loss: 18320.7324 - mae: 83.3533 - val_loss: 24821.2051 - val_mae: 103.6049\n",
            "Epoch 161/200\n",
            "\u001b[1m219/219\u001b[0m \u001b[32m━━━━━━━━━━━━━━━━━━━━\u001b[0m\u001b[37m\u001b[0m \u001b[1m2s\u001b[0m 5ms/step - loss: 481211.2188 - mae: 297.2045 - val_loss: 101431.9141 - val_mae: 213.6124\n",
            "Epoch 162/200\n",
            "\u001b[1m219/219\u001b[0m \u001b[32m━━━━━━━━━━━━━━━━━━━━\u001b[0m\u001b[37m\u001b[0m \u001b[1m1s\u001b[0m 5ms/step - loss: 154319.6719 - mae: 214.1568 - val_loss: 15920.0781 - val_mae: 87.6293\n",
            "Epoch 163/200\n",
            "\u001b[1m219/219\u001b[0m \u001b[32m━━━━━━━━━━━━━━━━━━━━\u001b[0m\u001b[37m\u001b[0m \u001b[1m1s\u001b[0m 3ms/step - loss: 1566504.6250 - mae: 572.1397 - val_loss: 16406.4434 - val_mae: 83.2126\n",
            "Epoch 164/200\n",
            "\u001b[1m219/219\u001b[0m \u001b[32m━━━━━━━━━━━━━━━━━━━━\u001b[0m\u001b[37m\u001b[0m \u001b[1m1s\u001b[0m 3ms/step - loss: 26118.0977 - mae: 96.9274 - val_loss: 45334.1875 - val_mae: 154.9158\n",
            "Epoch 165/200\n",
            "\u001b[1m219/219\u001b[0m \u001b[32m━━━━━━━━━━━━━━━━━━━━\u001b[0m\u001b[37m\u001b[0m \u001b[1m1s\u001b[0m 3ms/step - loss: 17745.2461 - mae: 82.1127 - val_loss: 12709.5391 - val_mae: 73.1293\n",
            "Epoch 166/200\n",
            "\u001b[1m219/219\u001b[0m \u001b[32m━━━━━━━━━━━━━━━━━━━━\u001b[0m\u001b[37m\u001b[0m \u001b[1m1s\u001b[0m 3ms/step - loss: 61440.1602 - mae: 107.4992 - val_loss: 286083.0000 - val_mae: 394.5786\n",
            "Epoch 167/200\n",
            "\u001b[1m219/219\u001b[0m \u001b[32m━━━━━━━━━━━━━━━━━━━━\u001b[0m\u001b[37m\u001b[0m \u001b[1m1s\u001b[0m 4ms/step - loss: 853185.6250 - mae: 544.9749 - val_loss: 59750.4453 - val_mae: 128.5792\n",
            "Epoch 168/200\n",
            "\u001b[1m219/219\u001b[0m \u001b[32m━━━━━━━━━━━━━━━━━━━━\u001b[0m\u001b[37m\u001b[0m \u001b[1m1s\u001b[0m 3ms/step - loss: 153370.4062 - mae: 220.2179 - val_loss: 44953.5977 - val_mae: 115.9090\n",
            "Epoch 169/200\n",
            "\u001b[1m219/219\u001b[0m \u001b[32m━━━━━━━━━━━━━━━━━━━━\u001b[0m\u001b[37m\u001b[0m \u001b[1m1s\u001b[0m 3ms/step - loss: 91695.6484 - mae: 172.9058 - val_loss: 44398.9023 - val_mae: 135.9672\n",
            "Epoch 170/200\n",
            "\u001b[1m219/219\u001b[0m \u001b[32m━━━━━━━━━━━━━━━━━━━━\u001b[0m\u001b[37m\u001b[0m \u001b[1m1s\u001b[0m 4ms/step - loss: 243452.0312 - mae: 280.3273 - val_loss: 221418.6719 - val_mae: 312.6406\n",
            "Epoch 171/200\n",
            "\u001b[1m219/219\u001b[0m \u001b[32m━━━━━━━━━━━━━━━━━━━━\u001b[0m\u001b[37m\u001b[0m \u001b[1m1s\u001b[0m 3ms/step - loss: 1495737.1250 - mae: 677.0394 - val_loss: 890045.6250 - val_mae: 577.1630\n",
            "Epoch 172/200\n",
            "\u001b[1m219/219\u001b[0m \u001b[32m━━━━━━━━━━━━━━━━━━━━\u001b[0m\u001b[37m\u001b[0m \u001b[1m1s\u001b[0m 4ms/step - loss: 1363286.5000 - mae: 575.0681 - val_loss: 19369.0332 - val_mae: 84.0985\n",
            "Epoch 173/200\n",
            "\u001b[1m219/219\u001b[0m \u001b[32m━━━━━━━━━━━━━━━━━━━━\u001b[0m\u001b[37m\u001b[0m \u001b[1m1s\u001b[0m 5ms/step - loss: 44816.3945 - mae: 118.0261 - val_loss: 1984480.5000 - val_mae: 954.6330\n",
            "Epoch 174/200\n",
            "\u001b[1m219/219\u001b[0m \u001b[32m━━━━━━━━━━━━━━━━━━━━\u001b[0m\u001b[37m\u001b[0m \u001b[1m1s\u001b[0m 4ms/step - loss: 503044.1562 - mae: 352.1291 - val_loss: 389463.6250 - val_mae: 383.2560\n",
            "Epoch 175/200\n",
            "\u001b[1m219/219\u001b[0m \u001b[32m━━━━━━━━━━━━━━━━━━━━\u001b[0m\u001b[37m\u001b[0m \u001b[1m1s\u001b[0m 3ms/step - loss: 569529.5000 - mae: 442.5121 - val_loss: 19786.5352 - val_mae: 87.5245\n",
            "Epoch 176/200\n",
            "\u001b[1m219/219\u001b[0m \u001b[32m━━━━━━━━━━━━━━━━━━━━\u001b[0m\u001b[37m\u001b[0m \u001b[1m1s\u001b[0m 3ms/step - loss: 18464.8281 - mae: 78.2576 - val_loss: 79141.2109 - val_mae: 159.6995\n",
            "Epoch 177/200\n",
            "\u001b[1m219/219\u001b[0m \u001b[32m━━━━━━━━━━━━━━━━━━━━\u001b[0m\u001b[37m\u001b[0m \u001b[1m1s\u001b[0m 3ms/step - loss: 4643153.5000 - mae: 806.9777 - val_loss: 1541784.3750 - val_mae: 755.3283\n",
            "Epoch 178/200\n",
            "\u001b[1m219/219\u001b[0m \u001b[32m━━━━━━━━━━━━━━━━━━━━\u001b[0m\u001b[37m\u001b[0m \u001b[1m1s\u001b[0m 3ms/step - loss: 704762.8750 - mae: 452.1214 - val_loss: 959335.8750 - val_mae: 547.2855\n",
            "Epoch 179/200\n",
            "\u001b[1m219/219\u001b[0m \u001b[32m━━━━━━━━━━━━━━━━━━━━\u001b[0m\u001b[37m\u001b[0m \u001b[1m1s\u001b[0m 3ms/step - loss: 423941.2500 - mae: 365.2719 - val_loss: 190458.7031 - val_mae: 260.9335\n",
            "Epoch 180/200\n",
            "\u001b[1m219/219\u001b[0m \u001b[32m━━━━━━━━━━━━━━━━━━━━\u001b[0m\u001b[37m\u001b[0m \u001b[1m1s\u001b[0m 3ms/step - loss: 190316.9062 - mae: 244.3791 - val_loss: 94857.2578 - val_mae: 188.7899\n",
            "Epoch 181/200\n",
            "\u001b[1m219/219\u001b[0m \u001b[32m━━━━━━━━━━━━━━━━━━━━\u001b[0m\u001b[37m\u001b[0m \u001b[1m1s\u001b[0m 3ms/step - loss: 144432.5938 - mae: 204.9351 - val_loss: 158384.3906 - val_mae: 238.7132\n",
            "Epoch 182/200\n",
            "\u001b[1m219/219\u001b[0m \u001b[32m━━━━━━━━━━━━━━━━━━━━\u001b[0m\u001b[37m\u001b[0m \u001b[1m1s\u001b[0m 3ms/step - loss: 145774.2500 - mae: 201.7874 - val_loss: 92659.3750 - val_mae: 191.2657\n",
            "Epoch 183/200\n",
            "\u001b[1m219/219\u001b[0m \u001b[32m━━━━━━━━━━━━━━━━━━━━\u001b[0m\u001b[37m\u001b[0m \u001b[1m1s\u001b[0m 4ms/step - loss: 147826.8906 - mae: 213.8763 - val_loss: 47191.0117 - val_mae: 143.4503\n",
            "Epoch 184/200\n",
            "\u001b[1m219/219\u001b[0m \u001b[32m━━━━━━━━━━━━━━━━━━━━\u001b[0m\u001b[37m\u001b[0m \u001b[1m1s\u001b[0m 4ms/step - loss: 73192.3203 - mae: 144.4006 - val_loss: 392699.6562 - val_mae: 351.4836\n",
            "Epoch 185/200\n",
            "\u001b[1m219/219\u001b[0m \u001b[32m━━━━━━━━━━━━━━━━━━━━\u001b[0m\u001b[37m\u001b[0m \u001b[1m1s\u001b[0m 5ms/step - loss: 257645.2344 - mae: 282.2078 - val_loss: 28771.4785 - val_mae: 123.4588\n",
            "Epoch 186/200\n",
            "\u001b[1m219/219\u001b[0m \u001b[32m━━━━━━━━━━━━━━━━━━━━\u001b[0m\u001b[37m\u001b[0m \u001b[1m1s\u001b[0m 5ms/step - loss: 327244.4688 - mae: 301.7963 - val_loss: 441263.2500 - val_mae: 405.7208\n",
            "Epoch 187/200\n",
            "\u001b[1m219/219\u001b[0m \u001b[32m━━━━━━━━━━━━━━━━━━━━\u001b[0m\u001b[37m\u001b[0m \u001b[1m1s\u001b[0m 3ms/step - loss: 1039604.1875 - mae: 556.1901 - val_loss: 164133.6406 - val_mae: 205.5031\n",
            "Epoch 188/200\n",
            "\u001b[1m219/219\u001b[0m \u001b[32m━━━━━━━━━━━━━━━━━━━━\u001b[0m\u001b[37m\u001b[0m \u001b[1m1s\u001b[0m 3ms/step - loss: 72051.4609 - mae: 152.0164 - val_loss: 52940.1445 - val_mae: 128.6297\n",
            "Epoch 189/200\n",
            "\u001b[1m219/219\u001b[0m \u001b[32m━━━━━━━━━━━━━━━━━━━━\u001b[0m\u001b[37m\u001b[0m \u001b[1m1s\u001b[0m 4ms/step - loss: 303602.0938 - mae: 265.4178 - val_loss: 266974.4688 - val_mae: 336.3489\n",
            "Epoch 190/200\n",
            "\u001b[1m219/219\u001b[0m \u001b[32m━━━━━━━━━━━━━━━━━━━━\u001b[0m\u001b[37m\u001b[0m \u001b[1m1s\u001b[0m 3ms/step - loss: 126980.0156 - mae: 205.8611 - val_loss: 78511.8516 - val_mae: 191.1822\n",
            "Epoch 191/200\n",
            "\u001b[1m219/219\u001b[0m \u001b[32m━━━━━━━━━━━━━━━━━━━━\u001b[0m\u001b[37m\u001b[0m \u001b[1m1s\u001b[0m 4ms/step - loss: 354242.6875 - mae: 311.7348 - val_loss: 298893.6875 - val_mae: 372.4323\n",
            "Epoch 192/200\n",
            "\u001b[1m219/219\u001b[0m \u001b[32m━━━━━━━━━━━━━━━━━━━━\u001b[0m\u001b[37m\u001b[0m \u001b[1m1s\u001b[0m 4ms/step - loss: 130438.7891 - mae: 206.6414 - val_loss: 32592.2500 - val_mae: 114.9204\n",
            "Epoch 193/200\n",
            "\u001b[1m219/219\u001b[0m \u001b[32m━━━━━━━━━━━━━━━━━━━━\u001b[0m\u001b[37m\u001b[0m \u001b[1m1s\u001b[0m 3ms/step - loss: 544606.8750 - mae: 387.0075 - val_loss: 38026.3477 - val_mae: 122.7511\n",
            "Epoch 194/200\n",
            "\u001b[1m219/219\u001b[0m \u001b[32m━━━━━━━━━━━━━━━━━━━━\u001b[0m\u001b[37m\u001b[0m \u001b[1m1s\u001b[0m 4ms/step - loss: 412278.2500 - mae: 210.7609 - val_loss: 820598.1875 - val_mae: 541.9457\n",
            "Epoch 195/200\n",
            "\u001b[1m219/219\u001b[0m \u001b[32m━━━━━━━━━━━━━━━━━━━━\u001b[0m\u001b[37m\u001b[0m \u001b[1m1s\u001b[0m 4ms/step - loss: 988149.1875 - mae: 513.5497 - val_loss: 875578.2500 - val_mae: 655.1172\n",
            "Epoch 196/200\n",
            "\u001b[1m219/219\u001b[0m \u001b[32m━━━━━━━━━━━━━━━━━━━━\u001b[0m\u001b[37m\u001b[0m \u001b[1m1s\u001b[0m 3ms/step - loss: 403012.3750 - mae: 359.5871 - val_loss: 1608431.1250 - val_mae: 727.7420\n",
            "Epoch 197/200\n",
            "\u001b[1m219/219\u001b[0m \u001b[32m━━━━━━━━━━━━━━━━━━━━\u001b[0m\u001b[37m\u001b[0m \u001b[1m1s\u001b[0m 4ms/step - loss: 265516.3125 - mae: 281.2355 - val_loss: 340008.3125 - val_mae: 255.9852\n",
            "Epoch 198/200\n",
            "\u001b[1m219/219\u001b[0m \u001b[32m━━━━━━━━━━━━━━━━━━━━\u001b[0m\u001b[37m\u001b[0m \u001b[1m2s\u001b[0m 5ms/step - loss: 239964.2500 - mae: 269.8475 - val_loss: 268271.3750 - val_mae: 286.4842\n",
            "Epoch 199/200\n",
            "\u001b[1m219/219\u001b[0m \u001b[32m━━━━━━━━━━━━━━━━━━━━\u001b[0m\u001b[37m\u001b[0m \u001b[1m1s\u001b[0m 4ms/step - loss: 399863.6250 - mae: 353.2979 - val_loss: 66202.1719 - val_mae: 132.8092\n",
            "Epoch 200/200\n",
            "\u001b[1m219/219\u001b[0m \u001b[32m━━━━━━━━━━━━━━━━━━━━\u001b[0m\u001b[37m\u001b[0m \u001b[1m1s\u001b[0m 3ms/step - loss: 1004241.9375 - mae: 529.0202 - val_loss: 67196.6562 - val_mae: 137.0598\n"
          ]
        },
        {
          "output_type": "execute_result",
          "data": {
            "text/plain": [
              "<keras.src.callbacks.history.History at 0x78c0e4edbb60>"
            ]
          },
          "metadata": {},
          "execution_count": 5
        }
      ],
      "source": [
        "model.compile(optimizer='adam', loss='mse', metrics=['mae'])\n",
        "model.fit(trainX, trainY, validation_data= (valX, valY), epochs=200)\n"
      ]
    },
    {
      "cell_type": "code",
      "execution_count": 8,
      "metadata": {
        "colab": {
          "base_uri": "https://localhost:8080/",
          "height": 490
        },
        "id": "0C4q_x5xcUMW",
        "outputId": "e010dcb0-2787-41a7-e7ee-fcc01f5dc377"
      },
      "outputs": [
        {
          "output_type": "stream",
          "name": "stdout",
          "text": [
            "\u001b[1m63/63\u001b[0m \u001b[32m━━━━━━━━━━━━━━━━━━━━\u001b[0m\u001b[37m\u001b[0m \u001b[1m0s\u001b[0m 2ms/step\n"
          ]
        },
        {
          "output_type": "display_data",
          "data": {
            "text/plain": [
              "<Figure size 640x480 with 1 Axes>"
            ],
            "image/png": "[encoded data removed]"
          },
          "metadata": {}
        }
      ],
      "source": [
        "#testing the model\n",
        "predictions = model.predict(testX)\n",
        "import matplotlib.pyplot as plt\n",
        "plt.scatter(testX, testY, label='True Values', color='blue', s=1)\n",
        "plt.scatter(testX, predictions, label='Predictions', color='red', s=1)\n",
        "plt.xlabel('Input')\n",
        "plt.ylabel('Output')\n",
        "plt.title('Model Predictions vs True Values')\n",
        "plt.legend()\n",
        "plt.show()\n",
        "# Save the model\n",
        "model.save('PredictionModel.keras')"
      ]
    },
    {
      "cell_type": "code",
      "source": [
        "testV = 150\n",
        "Expected = square(testV)\n",
        "\n",
        "# Make testV a 2D array with shape (1, 1)\n",
        "predicted = model.predict(np.array([[testV]]))\n",
        "\n",
        "print(f\"Expected: {Expected}, Predicted: {predicted[0][0]}\")\n"
      ],
      "metadata": {
        "colab": {
          "base_uri": "https://localhost:8080/"
        },
        "id": "Ns8VDGOP-zQW",
        "outputId": "64a0a8f0-8e4f-40e4-b3a9-1cab4bc3e2d8"
      },
      "execution_count": 10,
      "outputs": [
        {
          "output_type": "stream",
          "name": "stdout",
          "text": [
            "\u001b[1m1/1\u001b[0m \u001b[32m━━━━━━━━━━━━━━━━━━━━\u001b[0m\u001b[37m\u001b[0m \u001b[1m0s\u001b[0m 33ms/step\n",
            "Expected: 113998, Predicted: 114292.28125\n"
          ]
        }
      ]
    }
  ],
  "metadata": {
    "colab": {
      "provenance": [],
      "gpuType": "T4"
    },
    "kernelspec": {
      "display_name": "Python 3",
      "name": "python3"
    },
    "language_info": {
      "name": "python"
    },
    "accelerator": "GPU"
  },
  "nbformat": 4,
  "nbformat_minor": 0
}