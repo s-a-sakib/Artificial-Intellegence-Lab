{
 "cells": [
  {
   "cell_type": "code",
   "execution_count": 10,
   "metadata": {},
   "outputs": [],
   "source": [
    "import tensorflow as tf\n",
    "from tensorflow.keras.layers import Input, Dense, Flatten\n",
    "from tensorflow.keras.models import Model\n",
    "from tensorflow.keras.datasets import mnist"
   ]
  },
  {
   "cell_type": "code",
   "execution_count": 17,
   "metadata": {},
   "outputs": [],
   "source": [
    "inputs = Input(shape=(28, 28), name=\"input_layer\")\n",
    "x = Flatten(name=\"flatten_layer\")(inputs)   \n",
    "h1 = Dense(16, activation='relu', name=\"hidden_layer_1\")(x)\n",
    "h2 = Dense(16, activation='relu', name=\"hidden_layer_2\")(h1)\n",
    "h3 = Dense(16, activation='relu', name=\"hidden_layer_3\")(h2)\n",
    "outputs = Dense(10, activation='softmax', name=\"output_layer\")(h3)\n",
    "model = Model(inputs=inputs, outputs=outputs, name=\"mnist_model\")\n",
    "model.compile(optimizer='adam', loss='sparse_categorical_crossentropy', metrics=['accuracy'])\n"
   ]
  },
  {
   "cell_type": "code",
   "execution_count": 18,
   "metadata": {},
   "outputs": [
    {
     "name": "stdout",
     "output_type": "stream",
     "text": [
      "Epoch 1/5\n",
      "\u001b[1m1875/1875\u001b[0m \u001b[32m━━━━━━━━━━━━━━━━━━━━\u001b[0m\u001b[37m\u001b[0m \u001b[1m10s\u001b[0m 4ms/step - accuracy: 0.8481 - loss: 0.5017 - val_accuracy: 0.9106 - val_loss: 0.3056\n",
      "Epoch 2/5\n",
      "\u001b[1m1875/1875\u001b[0m \u001b[32m━━━━━━━━━━━━━━━━━━━━\u001b[0m\u001b[37m\u001b[0m \u001b[1m8s\u001b[0m 4ms/step - accuracy: 0.9208 - loss: 0.2722 - val_accuracy: 0.9266 - val_loss: 0.2471\n",
      "Epoch 3/5\n",
      "\u001b[1m1875/1875\u001b[0m \u001b[32m━━━━━━━━━━━━━━━━━━━━\u001b[0m\u001b[37m\u001b[0m \u001b[1m8s\u001b[0m 4ms/step - accuracy: 0.9342 - loss: 0.2281 - val_accuracy: 0.9288 - val_loss: 0.2392\n",
      "Epoch 4/5\n",
      "\u001b[1m1875/1875\u001b[0m \u001b[32m━━━━━━━━━━━━━━━━━━━━\u001b[0m\u001b[37m\u001b[0m \u001b[1m8s\u001b[0m 4ms/step - accuracy: 0.9410 - loss: 0.1986 - val_accuracy: 0.9433 - val_loss: 0.2020\n",
      "Epoch 5/5\n",
      "\u001b[1m1875/1875\u001b[0m \u001b[32m━━━━━━━━━━━━━━━━━━━━\u001b[0m\u001b[37m\u001b[0m \u001b[1m8s\u001b[0m 4ms/step - accuracy: 0.9469 - loss: 0.1797 - val_accuracy: 0.9462 - val_loss: 0.1875\n"
     ]
    }
   ],
   "source": [
    "from tensorflow.keras.datasets import mnist\n",
    "\n",
    "# Load data\n",
    "(x_train, y_train), (x_test, y_test) = mnist.load_data()\n",
    "\n",
    "# Normalize\n",
    "x_train = x_train / 255.0\n",
    "x_test = x_test / 255.0\n",
    "# Train\n",
    "model.fit(x_train, y_train, epochs=5, validation_data=(x_test, y_test))\n",
    "model.save('my_model.keras')"
   ]
  },
  {
   "cell_type": "code",
   "execution_count": 1,
   "metadata": {},
   "outputs": [
    {
     "name": "stderr",
     "output_type": "stream",
     "text": [
      "2025-08-10 00:02:39.798212: I tensorflow/core/util/port.cc:153] oneDNN custom operations are on. You may see slightly different numerical results due to floating-point round-off errors from different computation orders. To turn them off, set the environment variable `TF_ENABLE_ONEDNN_OPTS=0`.\n",
      "2025-08-10 00:02:39.861027: I external/local_xla/xla/tsl/cuda/cudart_stub.cc:32] Could not find cuda drivers on your machine, GPU will not be used.\n",
      "2025-08-10 00:02:40.199262: I external/local_xla/xla/tsl/cuda/cudart_stub.cc:32] Could not find cuda drivers on your machine, GPU will not be used.\n",
      "2025-08-10 00:02:40.531007: E external/local_xla/xla/stream_executor/cuda/cuda_fft.cc:467] Unable to register cuFFT factory: Attempting to register factory for plugin cuFFT when one has already been registered\n",
      "WARNING: All log messages before absl::InitializeLog() is called are written to STDERR\n",
      "E0000 00:00:1754762560.998974   42952 cuda_dnn.cc:8579] Unable to register cuDNN factory: Attempting to register factory for plugin cuDNN when one has already been registered\n",
      "E0000 00:00:1754762561.130996   42952 cuda_blas.cc:1407] Unable to register cuBLAS factory: Attempting to register factory for plugin cuBLAS when one has already been registered\n",
      "W0000 00:00:1754762561.654783   42952 computation_placer.cc:177] computation placer already registered. Please check linkage and avoid linking the same target more than once.\n",
      "W0000 00:00:1754762561.654838   42952 computation_placer.cc:177] computation placer already registered. Please check linkage and avoid linking the same target more than once.\n",
      "W0000 00:00:1754762561.654845   42952 computation_placer.cc:177] computation placer already registered. Please check linkage and avoid linking the same target more than once.\n",
      "W0000 00:00:1754762561.654850   42952 computation_placer.cc:177] computation placer already registered. Please check linkage and avoid linking the same target more than once.\n",
      "2025-08-10 00:02:41.702235: I tensorflow/core/platform/cpu_feature_guard.cc:210] This TensorFlow binary is optimized to use available CPU instructions in performance-critical operations.\n",
      "To enable the following instructions: AVX2 AVX512F AVX512_VNNI FMA, in other operations, rebuild TensorFlow with the appropriate compiler flags.\n",
      "2025-08-10 00:02:53.011064: E external/local_xla/xla/stream_executor/cuda/cuda_platform.cc:51] failed call to cuInit: INTERNAL: CUDA error: Failed call to cuInit: UNKNOWN ERROR (303)\n"
     ]
    },
    {
     "name": "stdout",
     "output_type": "stream",
     "text": [
      "\u001b[1m1/1\u001b[0m \u001b[32m━━━━━━━━━━━━━━━━━━━━\u001b[0m\u001b[37m\u001b[0m \u001b[1m0s\u001b[0m 216ms/step\n",
      "\u001b[1m1/1\u001b[0m \u001b[32m━━━━━━━━━━━━━━━━━━━━\u001b[0m\u001b[37m\u001b[0m \u001b[1m0s\u001b[0m 69ms/step\n",
      "\u001b[1m1/1\u001b[0m \u001b[32m━━━━━━━━━━━━━━━━━━━━\u001b[0m\u001b[37m\u001b[0m \u001b[1m0s\u001b[0m 69ms/step\n",
      "\u001b[1m1/1\u001b[0m \u001b[32m━━━━━━━━━━━━━━━━━━━━\u001b[0m\u001b[37m\u001b[0m \u001b[1m0s\u001b[0m 70ms/step\n",
      "\u001b[1m1/1\u001b[0m \u001b[32m━━━━━━━━━━━━━━━━━━━━\u001b[0m\u001b[37m\u001b[0m \u001b[1m0s\u001b[0m 65ms/step\n"
     ]
    }
   ],
   "source": [
    "import tkinter as tk\n",
    "from PIL import Image, ImageDraw\n",
    "import numpy as np\n",
    "import tensorflow as tf\n",
    "\n",
    "# ------------------------\n",
    "# Load your trained model\n",
    "# ------------------------\n",
    "model = tf.keras.models.load_model(\"my_model.keras\")\n",
    "\n",
    "# ------------------------\n",
    "# GUI Settings\n",
    "# ------------------------\n",
    "WIDTH, HEIGHT = 280, 280   # Drawing canvas size\n",
    "GRID_SIZE = 28             # Model input size\n",
    "BG_COLOR = \"white\"         # Canvas background\n",
    "DRAW_COLOR = \"black\"       # Drawing color\n",
    "BRUSH_SIZE = 10            # Brush radius\n",
    "\n",
    "# ------------------------\n",
    "# Create Tkinter Window\n",
    "# ------------------------\n",
    "root = tk.Tk()\n",
    "root.title(\"Digit Recognizer (28x28 FCNN)\")\n",
    "\n",
    "# Create Canvas\n",
    "canvas = tk.Canvas(root, width=WIDTH, height=HEIGHT, bg=BG_COLOR, cursor=\"cross\")\n",
    "canvas.grid(row=0, column=0, pady=2, sticky=tk.W, columnspan=2)\n",
    "\n",
    "# Create a Pillow image to mirror what’s drawn on canvas\n",
    "image = Image.new(\"L\", (WIDTH, HEIGHT), color=255)  # white background\n",
    "draw = ImageDraw.Draw(image)\n",
    "\n",
    "# ------------------------\n",
    "# Drawing Function\n",
    "# ------------------------\n",
    "def paint(event):\n",
    "    x1, y1 = (event.x - BRUSH_SIZE), (event.y - BRUSH_SIZE)\n",
    "    x2, y2 = (event.x + BRUSH_SIZE), (event.y + BRUSH_SIZE)\n",
    "    canvas.create_oval(x1, y1, x2, y2, fill=DRAW_COLOR, outline=DRAW_COLOR)\n",
    "    draw.ellipse([x1, y1, x2, y2], fill=0)  # black ink in Pillow image\n",
    "\n",
    "canvas.bind(\"<B1-Motion>\", paint)\n",
    "\n",
    "# ------------------------\n",
    "# Prediction Function\n",
    "# ------------------------\n",
    "def predict_digit():\n",
    "    # Resize to 28x28\n",
    "    img_resized = image.resize((GRID_SIZE, GRID_SIZE))\n",
    "    img_array = np.array(img_resized)\n",
    "    img_array = 255 - img_array        # invert colors: white bg → 0, black ink → 255\n",
    "    img_array = img_array / 255.0      # normalize\n",
    "    img_array = img_array.reshape(1, 28, 28)  # FCNN input shape\n",
    "\n",
    "    # Predict\n",
    "    prediction = model.predict(img_array)\n",
    "    digit = np.argmax(prediction)\n",
    "    confidence = np.max(prediction) * 100\n",
    "\n",
    "    result_label.config(text=f\"Prediction: {digit} ({confidence:.2f}%)\")\n",
    "\n",
    "# ------------------------\n",
    "# Clear Function\n",
    "# ------------------------\n",
    "def clear_canvas():\n",
    "    canvas.delete(\"all\")\n",
    "    draw.rectangle([0, 0, WIDTH, HEIGHT], fill=255)\n",
    "    result_label.config(text=\"Prediction: None\")\n",
    "\n",
    "# ------------------------\n",
    "# Buttons & Label\n",
    "# ------------------------\n",
    "predict_button = tk.Button(root, text=\"Predict\", command=predict_digit)\n",
    "predict_button.grid(row=1, column=0, pady=2)\n",
    "\n",
    "clear_button = tk.Button(root, text=\"Clear\", command=clear_canvas)\n",
    "clear_button.grid(row=1, column=1, pady=2)\n",
    "\n",
    "result_label = tk.Label(root, text=\"Prediction: None\", font=(\"Helvetica\", 16))\n",
    "result_label.grid(row=2, column=0, columnspan=2)\n",
    "\n",
    "root.mainloop()\n"
   ]
  }
 ],
 "metadata": {
  "kernelspec": {
   "display_name": "Python 3",
   "language": "python",
   "name": "python3"
  },
  "language_info": {
   "codemirror_mode": {
    "name": "ipython",
    "version": 3
   },
   "file_extension": ".py",
   "mimetype": "text/x-python",
   "name": "python",
   "nbconvert_exporter": "python",
   "pygments_lexer": "ipython3",
   "version": "3.12.3"
  }
 },
 "nbformat": 4,
 "nbformat_minor": 2
}
